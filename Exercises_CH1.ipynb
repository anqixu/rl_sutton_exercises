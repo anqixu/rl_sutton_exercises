{
 "cells": [
  {
   "cell_type": "markdown",
   "metadata": {},
   "source": [
    "# Exercise 1.1: Self-Play\n",
    "* If the agent's policy is near-random, then self-play would result in similar learning as if playing against a random opponent\n",
    "* If the agent's policy is highly concentrated in a part of state-action space, and it has little explorative attributes, then self-play may result in optimizing moves for that part of state-action space yet not perfecting for other parts\n",
    "* This type of biased self-play may be advantageous, if the agent's policy has sufficient exploratory attributes, as seen from AlphaGo and AlphaGo Zero"
   ]
  },
  {
   "cell_type": "markdown",
   "metadata": {},
   "source": [
    "# Exercise 1.2: Symmetries\n",
    "* Tic-tac-toe board has positional symmetrics across the center vertical column, center vertical row, both diagonals, and is also symmetric at $90^\\circ$ rotations\n",
    "* **TODO** One way to exploit symmetry is to... rotate and/or reflect the board so that first move of player A is always either the top-left or top-middle square, and the first move of player B is always in the upper-triangular region of the board; this would resolve the symmetries so that the agent can learn a policy faster, since the first few moves in stat-action space would be more concentrated\n",
    "* **TODO** If an independent opponent does not take advantage of symmetries, then we can apply symmetry to learn faster, and thus likely to outperform a stationary opponent; on the other hand, if the opponent plays weaker moves on a specific board configuration but plays stronger in a symmetric variant of the board, then arguably our agent should exploit this non-symmetricness by being non-symmetric also\n",
    "* **TODO** Based on the above argument, we conclude that symmetrically equivalent positions should not necessarily have the same value"
   ]
  },
  {
   "cell_type": "markdown",
   "metadata": {},
   "source": [
    "# Exercise 1.3: Greedy Play\n"
   ]
  }
 ],
 "metadata": {
  "kernelspec": {
   "display_name": "Python 3",
   "language": "python",
   "name": "python3"
  },
  "language_info": {
   "codemirror_mode": {
    "name": "ipython",
    "version": 3
   },
   "file_extension": ".py",
   "mimetype": "text/x-python",
   "name": "python",
   "nbconvert_exporter": "python",
   "pygments_lexer": "ipython3",
   "version": "3.5.4"
  }
 },
 "nbformat": 4,
 "nbformat_minor": 2
}
