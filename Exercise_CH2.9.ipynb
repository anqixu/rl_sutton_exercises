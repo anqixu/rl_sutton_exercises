{
 "cells": [
  {
   "cell_type": "code",
   "execution_count": 1,
   "metadata": {},
   "outputs": [],
   "source": [
    "%matplotlib notebook\n",
    "\n",
    "import numpy as np\n",
    "from matplotlib import pyplot as plt"
   ]
  },
  {
   "cell_type": "code",
   "execution_count": 2,
   "metadata": {
    "collapsed": true
   },
   "outputs": [],
   "source": [
    "class KArmedBanditEnv:\n",
    "    def __init__(self, n_arms, q_start_init=1., q_stdev=1.):\n",
    "        self.n_arms = n_arms\n",
    "        self.q_start_init = q_start_init\n",
    "        self.q_stdev = q_stdev\n",
    "        self.reset()\n",
    "    \n",
    "    def reset(self, from_q_init=True):\n",
    "        if from_q_init:\n",
    "            self.q_stars = np.ones(self.n_arms)*self.q_start_init\n",
    "        else:\n",
    "            self.q_stars = np.random.normal(loc=0., scale=1., size=(self.n_arms,))\n",
    "        \n",
    "    def draw_reward(self, a):\n",
    "        qa_mu = self.q_stars[a]\n",
    "        return np.random.normal(qa_mu, self.q_stdev)\n",
    "    \n",
    "    def get_optimal_a(self):\n",
    "        return np.argmax(self.q_stars)\n",
    "\n",
    "    def apply_random_walk(self, mu=0, stdev=0.01):\n",
    "        self.q_stars += np.random.normal(mu, stdev, self.q_stars.shape)\n",
    "  \n",
    "class EpsilonGreedyPolicy:\n",
    "    def __init__(self, n_arms, epsilon=0.1):\n",
    "        self.n_arms = n_arms\n",
    "        self.epsilon = epsilon\n",
    "        self.reset()\n",
    "        \n",
    "    def reset(self):\n",
    "        self.Qs = np.zeros(self.n_arms)\n",
    "    \n",
    "    def sample_action(self):\n",
    "        rand = np.random.rand()\n",
    "        if rand >= self.epsilon: # exploit sample-average estimate\n",
    "            a = np.argmax(self.Qs)\n",
    "        else: # sample greedy action\n",
    "            a = np.random.randint(0, self.n_arms)\n",
    "        return a\n",
    "    \n",
    "    def update_reward(self, a, r):\n",
    "        raise NotImplementedError()\n",
    "       \n",
    "class SampleAveragePolicy(EpsilonGreedyPolicy):\n",
    "    def __init__(self, n_arms, epsilon=0.1):\n",
    "        super().__init__(n_arms, epsilon)\n",
    "        \n",
    "    def reset(self):\n",
    "        super().reset()\n",
    "        self.Ns = np.zeros(self.n_arms)\n",
    "    \n",
    "    def update_reward(self, a, r):\n",
    "        self.Ns[a] += 1\n",
    "        self.Qs[a] = self.Qs[a] + 1./(self.Ns[a])*(r-self.Qs[a])\n",
    "\n",
    "class FixedAlphaPolicy(EpsilonGreedyPolicy):\n",
    "    def __init__(self, n_arms, epsilon=0.1, alpha=0.1):\n",
    "        super().__init__(n_arms, epsilon)\n",
    "        self.alpha =alpha\n",
    "        \n",
    "    def update_reward(self, a, r):\n",
    "        self.Qs[a] = self.Qs[a] + self.alpha*(r-self.Qs[a])\n",
    "\n",
    "class Stats:\n",
    "    def __init__(self, n_runs, n_steps):\n",
    "        self.n_runs = n_runs\n",
    "        self.n_steps = n_steps\n",
    "        self.reset()\n",
    "        \n",
    "    def reset(self):\n",
    "        self.rewards = np.zeros((self.n_runs, self.n_steps))\n",
    "        self.optimal_action = np.zeros((self.n_runs, self.n_steps))\n",
    "        \n",
    "    def update(self, run, step, r, a_chosen, a_opt):\n",
    "        self.rewards[run, step] = r\n",
    "        self.optimal_action[run, step] = (a_chosen == a_opt)\n",
    "        \n",
    "    def get_avg_rewards(self):\n",
    "        return np.mean(self.rewards, axis=0)\n",
    "\n",
    "    def get_avg_optimacy(self):\n",
    "        return np.mean(self.optimal_action, axis=0)"
   ]
  },
  {
   "cell_type": "code",
   "execution_count": 1,
   "metadata": {},
   "outputs": [],
   "source": [
    "# TODO: implement UCB, gradient bandit, and greedy with optimal initialization classes\n",
    "# TODO: implement sample loop while sweeping over all params\n",
    "# TODO: compute plot sequences: (param value) vs (average reward over first N steps)\n",
    "# TODO: plot"
   ]
  },
  {
   "cell_type": "code",
   "execution_count": null,
   "metadata": {
    "scrolled": false
   },
   "outputs": [],
   "source": []
  }
 ],
 "metadata": {
  "kernelspec": {
   "display_name": "Python 3",
   "language": "python",
   "name": "python3"
  },
  "language_info": {
   "codemirror_mode": {
    "name": "ipython",
    "version": 3
   },
   "file_extension": ".py",
   "mimetype": "text/x-python",
   "name": "python",
   "nbconvert_exporter": "python",
   "pygments_lexer": "ipython3",
   "version": "3.5.2"
  }
 },
 "nbformat": 4,
 "nbformat_minor": 2
}
