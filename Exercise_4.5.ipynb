{
 "cells": [
  {
   "cell_type": "code",
   "execution_count": 1,
   "metadata": {},
   "outputs": [],
   "source": [
    "%matplotlib ipympl\n",
    "\n",
    "import itertools\n",
    "import pickle\n",
    "import functools\n",
    "import numpy as np\n",
    "import scipy.special as sps\n",
    "from matplotlib import pyplot as plt\n",
    "from tqdm import tqdm_notebook, tnrange, tqdm\n",
    "tqdm.monitor_interval = 0 # https://github.com/tqdm/tqdm/issues/481"
   ]
  },
  {
   "cell_type": "markdown",
   "metadata": {},
   "source": [
    "## Utility functions"
   ]
  },
  {
   "cell_type": "code",
   "execution_count": 2,
   "metadata": {},
   "outputs": [],
   "source": [
    "\"\"\"\n",
    "Fully cached memoizer decorator\n",
    "from https://wiki.python.org/moin/PythonDecoratorLibrary\n",
    "\"\"\"\n",
    "def memoize(obj):\n",
    "    cache = obj.cache = {}\n",
    "    @functools.wraps(obj)\n",
    "    def memoizer(*args, **kwargs):\n",
    "        key = str(args) + str(kwargs)\n",
    "        if key not in cache:\n",
    "            cache[key] = obj(*args, **kwargs)\n",
    "        return cache[key]\n",
    "    return memoizer\n",
    "\n",
    "\n",
    "\"\"\"\n",
    "Poisson PDF\n",
    "\"\"\"\n",
    "@memoize\n",
    "def poisson_prob(n, lam):\n",
    "    return np.power(lam, n) / sps.factorial(n, exact=True) * np.exp(-lam)\n",
    "\n",
    "\n",
    "\"\"\"\n",
    "Evaluate probability of Poisson PDF for all ns >= n\n",
    "\"\"\"\n",
    "@memoize\n",
    "def poisson_remaining_prob(n, lam):\n",
    "    if n == 0:\n",
    "        return 1.\n",
    "    ns = np.arange(n)\n",
    "    return 1. - np.sum(np.power(lam, ns) / sps.factorial(ns, exact=True) * np.exp(-lam))\n"
   ]
  },
  {
   "cell_type": "markdown",
   "metadata": {},
   "source": [
    "## Transition functions (& state/action space dimensions)"
   ]
  },
  {
   "cell_type": "code",
   "execution_count": 3,
   "metadata": {},
   "outputs": [],
   "source": [
    "MAX_NUM_CARS = 20\n",
    "MAX_NUM_TRANSFERS = 5\n",
    "\n",
    "\n",
    "\"\"\"\n",
    "s, sp: 2x1 state - [num_cars_in_first_loc; num_cars_in_second_loc], each \\in [0, MAX_NUM_CARS]\n",
    "a: action \\in [-MAX_NUM_TRANSFERS, MAX_NUM_TRANSFERS], representing number of cars moved from first_loc to second_loc\n",
    "\n",
    "Returns tuple: probability, (expected) reward\n",
    "\"\"\"\n",
    "@memoize\n",
    "def transition_prob_and_reward_eg42(s, a, sp, max_num_cars=MAX_NUM_CARS, max_num_transfer=MAX_NUM_TRANSFERS, r_transfer=-2, r_rental=10):\n",
    "    nS = max_num_cars+1\n",
    "    \n",
    "    r = 0\n",
    "    p = 0\n",
    "    \n",
    "    # Check for invalid actions\n",
    "    if a > 0 and s[0] < a:\n",
    "        return 0., 0\n",
    "    elif a < 0 and s[1] < -a:\n",
    "        return 0., 0\n",
    "    \n",
    "    # Determine number of cars after transfer, before returns and new rentals\n",
    "    r = r_transfer*abs(a)\n",
    "    s_after_transfer = np.copy(s)\n",
    "    s_after_transfer[0] -= a\n",
    "    s_after_transfer[1] += a\n",
    "    if s_after_transfer[0] > max_num_cars:\n",
    "        s_after_transfer[0] = max_num_cars\n",
    "    if s_after_transfer[1] > max_num_cars:\n",
    "        s_after_transfer[1] = max_num_cars\n",
    "\n",
    "    # Compute sum of probabilities by enumerating all possible returns (accumulate all remaining probs on cars=max_num_cars) and determine corresponding number of rentals\n",
    "    exp_r_rentals = 0\n",
    "    for num_returns_first_loc in range(max(0, sp[0]-s_after_transfer[0]), max_num_cars-s_after_transfer[0]+1):\n",
    "        cars_after_return_first_loc = s_after_transfer[0]+num_returns_first_loc\n",
    "        num_rentals_first_loc = cars_after_return_first_loc - sp[0]\n",
    "\n",
    "        if cars_after_return_first_loc == max_num_cars:\n",
    "            prob_returns_first_loc = poisson_remaining_prob(n=num_returns_first_loc, lam=3) # more returns still result in same car state\n",
    "        else:\n",
    "            prob_returns_first_loc = poisson_prob(n=num_returns_first_loc, lam=3)\n",
    "        if sp[0] == 0:\n",
    "            prob_rentals_first_loc = poisson_remaining_prob(n=num_rentals_first_loc, lam=3) # more rentals still result in same car state\n",
    "        else:\n",
    "            prob_rentals_first_loc = poisson_prob(n=num_rentals_first_loc, lam=3)\n",
    "        \n",
    "        for num_returns_sec_loc in range(max(0, sp[1]-s_after_transfer[1]), max_num_cars-s_after_transfer[1]+1):\n",
    "            cars_after_return_sec_loc = s_after_transfer[1]+num_returns_sec_loc\n",
    "            num_rentals_sec_loc = cars_after_return_sec_loc - sp[1]\n",
    "            \n",
    "            if cars_after_return_sec_loc == max_num_cars:\n",
    "                prob_returns_sec_loc = poisson_remaining_prob(n=num_returns_sec_loc, lam=2) # more returns still result in same car state\n",
    "            else:\n",
    "                prob_returns_sec_loc = poisson_prob(n=num_returns_sec_loc, lam=2)\n",
    "            if sp[1] == 0:\n",
    "                prob_rentals_sec_loc = poisson_remaining_prob(n=num_rentals_sec_loc, lam=4) # more rentals still result in same car state\n",
    "            else:\n",
    "                prob_rentals_sec_loc = poisson_prob(n=num_rentals_sec_loc, lam=4)\n",
    "\n",
    "            prob = prob_returns_first_loc * prob_returns_sec_loc * prob_rentals_first_loc * prob_rentals_sec_loc\n",
    "            p += prob\n",
    "            \n",
    "            exp_r_rentals += r_rental*(num_rentals_first_loc+num_rentals_sec_loc) * prob\n",
    "            \n",
    "            if cars_after_return_sec_loc == max_num_cars:\n",
    "                break\n",
    "    \n",
    "    if p > 0:\n",
    "        exp_r_rentals /= p\n",
    "        r += exp_r_rentals\n",
    "    \n",
    "    return p, r\n",
    "\n",
    "\n",
    "\"\"\"\n",
    "Since the transition function above does not seem to generate the same solution as the book, try one where the transition probabilities are simpler despite being wrong:\n",
    "- do not consider the possibility of excessive rentals and returns\n",
    "- do not normalize the poisson distributions (since we only consider a finite subset of rentals and returns, yet still use the poisson PDF defined over Z)\n",
    "\"\"\"\n",
    "@memoize\n",
    "def transition_prob_and_reward_eg42_poissononly(s, a, sp, max_num_cars=MAX_NUM_CARS, max_num_transfers=MAX_NUM_TRANSFERS, r_transfer=-2, r_rental=10):\n",
    "    nS = max_num_cars+1\n",
    "    \n",
    "    r = 0\n",
    "    p = 0\n",
    "    \n",
    "    # Check for invalid actions\n",
    "    if a > 0 and s[0] < a:\n",
    "        return 0., 0\n",
    "    elif a < 0 and s[1] < -a:\n",
    "        return 0., 0\n",
    "    \n",
    "    # Determine number of cars after transfer, before returns and new rentals\n",
    "    r = r_transfer*abs(a)\n",
    "    s_after_transfer = np.copy(s)\n",
    "    s_after_transfer[0] -= a\n",
    "    s_after_transfer[1] += a\n",
    "    if s_after_transfer[0] > max_num_cars:\n",
    "        s_after_transfer[0] = max_num_cars\n",
    "    if s_after_transfer[1] > max_num_cars:\n",
    "        s_after_transfer[1] = max_num_cars\n",
    "\n",
    "    # Compute sum of probabilities by enumerating all possible returns (accumulate all remaining probs on cars=MAX_NUM_CARS) and determine corresponding number of rentals\n",
    "    exp_r_rentals = 0\n",
    "    for num_returns_first_loc in range(max(0, sp[0]-s_after_transfer[0]), max_num_cars-s_after_transfer[0]+1):\n",
    "        cars_after_return_first_loc = s_after_transfer[0]+num_returns_first_loc\n",
    "        num_rentals_first_loc = cars_after_return_first_loc - sp[0]\n",
    "        prob_returns_first_loc = poisson_prob(n=num_returns_first_loc, lam=3)\n",
    "        prob_rentals_first_loc = poisson_prob(n=num_rentals_first_loc, lam=3)\n",
    "        \n",
    "        for num_returns_sec_loc in range(max(0, sp[1]-s_after_transfer[1]), max_num_cars-s_after_transfer[1]+1):\n",
    "            cars_after_return_sec_loc = s_after_transfer[1]+num_returns_sec_loc\n",
    "            num_rentals_sec_loc = cars_after_return_sec_loc - sp[1]\n",
    "            prob_returns_sec_loc = poisson_prob(n=num_returns_sec_loc, lam=2)\n",
    "            prob_rentals_sec_loc = poisson_prob(n=num_rentals_sec_loc, lam=4)\n",
    "\n",
    "            prob = prob_returns_first_loc * prob_returns_sec_loc * prob_rentals_first_loc * prob_rentals_sec_loc\n",
    "            p += prob\n",
    "            \n",
    "            exp_r_rentals += r_rental*(num_rentals_first_loc+num_rentals_sec_loc) * prob\n",
    "            \n",
    "            if cars_after_return_sec_loc == max_num_cars:\n",
    "                break\n",
    "    \n",
    "    if p > 0:\n",
    "        exp_r_rentals /= p\n",
    "        r += exp_r_rentals\n",
    "    \n",
    "    return p, r\n",
    "\n",
    "\n",
    "\"\"\"\n",
    "action _a is now a 2-tuple: [a_transfer, a_employee]\n",
    "\"\"\"\n",
    "@memoize\n",
    "def transition_prob_and_reward_ex45(s, a, sp, max_num_cars=MAX_NUM_CARS, max_num_transfers=MAX_NUM_TRANSFERS, r_transfer=-2, r_rental=10, max_num_cars_overflow=10, r_overflow=-4):\n",
    "    nS = max_num_cars+1\n",
    "    \n",
    "    a_transfer, a_employee = a\n",
    "    a_total = a_transfer+a_employee\n",
    "    r = 0\n",
    "    p = 0\n",
    "    \n",
    "    # Check for invalid actions\n",
    "    if (a_transfer > 0 or a_employee > 0) and s[0] < a_total:\n",
    "        return 0., 0\n",
    "    elif (a_transfer < 0 or a_employee > 0) and s[1] < -a_total:\n",
    "        return 0., 0\n",
    "    \n",
    "    # Determine number of cars after transfer, before returns and new rentals\n",
    "    r = r_transfer*abs(a_transfer)\n",
    "    s_after_transfer = np.copy(s)\n",
    "    s_after_transfer[0] -= a_total\n",
    "    s_after_transfer[1] += a_total\n",
    "    if s_after_transfer[0] > max_num_cars:\n",
    "        s_after_transfer[0] = max_num_cars\n",
    "    if s_after_transfer[1] > max_num_cars:\n",
    "        s_after_transfer[1] = max_num_cars\n",
    "\n",
    "    # Compute sum of probabilities by enumerating all possible returns (accumulate all remaining probs on cars=max_num_cars) and determine corresponding number of rentals\n",
    "    exp_r_rentals = 0\n",
    "    exp_r_overflows = 0\n",
    "    for num_returns_first_loc in range(max(0, sp[0]-s_after_transfer[0]), max_num_cars-s_after_transfer[0]+1):\n",
    "        cars_after_return_first_loc = s_after_transfer[0]+num_returns_first_loc\n",
    "        num_overflows_first_loc = 0 if cars_after_return_first_loc <= max_num_cars_overflow else (cars_after_return_first_loc - max_num_cars_overflow)\n",
    "        num_rentals_first_loc = cars_after_return_first_loc - sp[0]\n",
    "\n",
    "        if cars_after_return_first_loc == max_num_cars:\n",
    "            prob_returns_first_loc = poisson_remaining_prob(n=num_returns_first_loc, lam=3) # more returns still result in same car state\n",
    "        else:\n",
    "            prob_returns_first_loc = poisson_prob(n=num_returns_first_loc, lam=3)\n",
    "        if sp[0] == 0:\n",
    "            prob_rentals_first_loc = poisson_remaining_prob(n=num_rentals_first_loc, lam=3) # more rentals still result in same car state\n",
    "        else:\n",
    "            prob_rentals_first_loc = poisson_prob(n=num_rentals_first_loc, lam=3)\n",
    "        \n",
    "        for num_returns_sec_loc in range(max(0, sp[1]-s_after_transfer[1]), max_num_cars-s_after_transfer[1]+1):\n",
    "            cars_after_return_sec_loc = s_after_transfer[1]+num_returns_sec_loc\n",
    "            num_overflows_sec_loc = 0 if cars_after_return_sec_loc <= max_num_cars_overflow else (cars_after_return_sec_loc - max_num_cars_overflow)\n",
    "            num_rentals_sec_loc = cars_after_return_sec_loc - sp[1]\n",
    "            \n",
    "            if cars_after_return_sec_loc == max_num_cars:\n",
    "                prob_returns_sec_loc = poisson_remaining_prob(n=num_returns_sec_loc, lam=2) # more returns still result in same car state\n",
    "            else:\n",
    "                prob_returns_sec_loc = poisson_prob(n=num_returns_sec_loc, lam=2)\n",
    "            if sp[1] == 0:\n",
    "                prob_rentals_sec_loc = poisson_remaining_prob(n=num_rentals_sec_loc, lam=4) # more rentals still result in same car state\n",
    "            else:\n",
    "                prob_rentals_sec_loc = poisson_prob(n=num_rentals_sec_loc, lam=4)\n",
    "\n",
    "            prob = prob_returns_first_loc * prob_returns_sec_loc * prob_rentals_first_loc * prob_rentals_sec_loc\n",
    "            p += prob\n",
    "            \n",
    "            exp_r_rentals += r_rental*(num_rentals_first_loc+num_rentals_sec_loc) * prob\n",
    "            exp_r_overflows += r_overflow*(num_overflows_first_loc+num_overflows_sec_loc) * prob\n",
    "            \n",
    "            if cars_after_return_sec_loc == max_num_cars:\n",
    "                break\n",
    "    \n",
    "    if p > 0:\n",
    "        exp_r_rentals /= p\n",
    "        r += exp_r_rentals\n",
    "        exp_r_overflows /= p\n",
    "        r += exp_r_overflows\n",
    "    \n",
    "    return p, r\n"
   ]
  },
  {
   "cell_type": "markdown",
   "metadata": {},
   "source": [
    "## (Optional) Pre-cache / load-cached transition functions"
   ]
  },
  {
   "cell_type": "code",
   "execution_count": 4,
   "metadata": {},
   "outputs": [
    {
     "data": {
      "application/vnd.jupyter.widget-view+json": {
       "model_id": "bdb9a011dcb74972bc81209d0cc6f6f6",
       "version_major": 2,
       "version_minor": 0
      },
      "text/html": [
       "<p>Failed to display Jupyter Widget of type <code>HBox</code>.</p>\n",
       "<p>\n",
       "  If you're reading this message in the Jupyter Notebook or JupyterLab Notebook, it may mean\n",
       "  that the widgets JavaScript is still loading. If this message persists, it\n",
       "  likely means that the widgets JavaScript library is either not installed or\n",
       "  not enabled. See the <a href=\"https://ipywidgets.readthedocs.io/en/stable/user_install.html\">Jupyter\n",
       "  Widgets Documentation</a> for setup instructions.\n",
       "</p>\n",
       "<p>\n",
       "  If you're reading this message in another frontend (for example, a static\n",
       "  rendering on GitHub or <a href=\"https://nbviewer.jupyter.org/\">NBViewer</a>),\n",
       "  it may mean that your frontend doesn't currently support widgets.\n",
       "</p>\n"
      ],
      "text/plain": [
       "HBox(children=(IntProgress(value=0, description='T[s1, ...]', max=21), HTML(value='')))"
      ]
     },
     "metadata": {},
     "output_type": "display_data"
    },
    {
     "name": "stdout",
     "output_type": "stream",
     "text": [
      "\n"
     ]
    }
   ],
   "source": [
    "# Pre-cache transition functions for example 4.2\n",
    "\n",
    "nS = MAX_NUM_CARS+1\n",
    "nA = 2*MAX_NUM_TRANSFERS+1\n",
    "p_cache_eg42 = np.zeros(shape=(nS, nS, nA, nS, nS))\n",
    "r_cache_eg42 = np.zeros(shape=(nS, nS, nA, nS, nS))\n",
    "for s1 in tnrange(nS, desc='T[s1, ...]'):\n",
    "    for s2, ai, s1p, s2p in itertools.product(range(nS), range(nA), range(nS), range(nS)):\n",
    "        a = ai - MAX_NUM_TRANSFERS\n",
    "        p_cache_eg42[s1, s2, ai, s1p, s2p], r_cache_eg42[s1, s2, ai, s1p, s2p] = transition_prob_and_reward_eg42(s=(s1, s2), a=a, sp=(s1p, s2p))\n",
    "\n",
    "with open('pkl/Example_4.2_transition.pkl', 'wb') as f:\n",
    "    pickle.dump({'fn': 'transition_prob_and_reward_eg42', 'p_cache_eg42': p_cache_eg42, 'r_cache_eg42': r_cache_eg42}, f)\n"
   ]
  },
  {
   "cell_type": "code",
   "execution_count": 5,
   "metadata": {},
   "outputs": [
    {
     "data": {
      "application/vnd.jupyter.widget-view+json": {
       "model_id": "1c6e039025fa484e942110bd8658332b",
       "version_major": 2,
       "version_minor": 0
      },
      "text/html": [
       "<p>Failed to display Jupyter Widget of type <code>HBox</code>.</p>\n",
       "<p>\n",
       "  If you're reading this message in the Jupyter Notebook or JupyterLab Notebook, it may mean\n",
       "  that the widgets JavaScript is still loading. If this message persists, it\n",
       "  likely means that the widgets JavaScript library is either not installed or\n",
       "  not enabled. See the <a href=\"https://ipywidgets.readthedocs.io/en/stable/user_install.html\">Jupyter\n",
       "  Widgets Documentation</a> for setup instructions.\n",
       "</p>\n",
       "<p>\n",
       "  If you're reading this message in another frontend (for example, a static\n",
       "  rendering on GitHub or <a href=\"https://nbviewer.jupyter.org/\">NBViewer</a>),\n",
       "  it may mean that your frontend doesn't currently support widgets.\n",
       "</p>\n"
      ],
      "text/plain": [
       "HBox(children=(IntProgress(value=0, description='T[s1, ...]', max=21), HTML(value='')))"
      ]
     },
     "metadata": {},
     "output_type": "display_data"
    },
    {
     "name": "stdout",
     "output_type": "stream",
     "text": [
      "\n"
     ]
    }
   ],
   "source": [
    "# Pre-cache transition functions for exercise 4.5\n",
    "\n",
    "nS = MAX_NUM_CARS+1\n",
    "nA = 2*MAX_NUM_TRANSFERS+1\n",
    "p_cache_ex45 = np.zeros(shape=(nS, nS, nA, 2, nS, nS))\n",
    "r_cache_ex45 = np.zeros(shape=(nS, nS, nA, 2, nS, nS))\n",
    "for s1 in tnrange(nS, desc='T[s1, ...]'):\n",
    "    for s2, ai_transfer, a_employee, s1p, s2p in itertools.product(range(nS), range(nA), range(2), range(nS), range(nS)):\n",
    "        a_transfer = ai_transfer - MAX_NUM_TRANSFERS\n",
    "        p_cache_ex45[s1, s2, ai_transfer, a_employee, s1p, s2p], r_cache_ex45[s1, s2, ai_transfer, a_employee, s1p, s2p] = transition_prob_and_reward_ex45(s=(s1, s2), a=(a_transfer, a_employee), sp=(s1p, s2p))\n",
    "\n",
    "with open('pkl/Exercise_4.5_transition.pkl', 'wb') as f:\n",
    "    pickle.dump({'fn': 'transition_prob_and_reward_ex45', 'p_cache_ex45': p_cache_ex45, 'r_cache_ex45': r_cache_ex45}, f)\n"
   ]
  },
  {
   "cell_type": "code",
   "execution_count": 6,
   "metadata": {},
   "outputs": [],
   "source": [
    "# Load cached transition functions\n",
    "\n",
    "with open('pkl/Example_4.2_transition.pkl', 'rb') as f:\n",
    "    d = pickle.load(f)\n",
    "    p_cache_eg42, r_cache_eg42 = d['p_cache_eg42'], d['r_cache_eg42']\n",
    "\n",
    "def transition_prob_and_reward_eg42_cached(s, a, sp, max_num_transfers=MAX_NUM_TRANSFERS):\n",
    "    global p_cache_eg42, r_cache_eg42\n",
    "    ai = a + max_num_transfers\n",
    "    return p_cache_eg42[s[0], s[1], ai, sp[0], sp[1]], r_cache_eg42[s[0], s[1], ai, sp[0], sp[1]]\n",
    "\n",
    "with open('pkl/Exercise_4.5_transition.pkl', 'rb') as f:\n",
    "    d = pickle.load(f)\n",
    "    p_cache_ex45, r_cache_ex45 = d['p_cache_ex45'], d['r_cache_ex45']\n",
    "\n",
    "def transition_prob_and_reward_ex45_cached(s, a, sp, max_num_transfers=MAX_NUM_TRANSFERS):\n",
    "    global p_cache_ex45, r_cache_ex45\n",
    "    a_transfer, a_employee = a\n",
    "    ai_transfer = a_transfer + max_num_transfers\n",
    "    return p_cache_ex45[s[0], s[1], ai_transfer, a_employee, sp[0], sp[1]], r_cache_ex45[s[0], s[1], ai_transfer, a_employee, sp[0], sp[1]]\n"
   ]
  },
  {
   "cell_type": "markdown",
   "metadata": {},
   "source": [
    "## Implementations of policy and value iteration"
   ]
  },
  {
   "cell_type": "code",
   "execution_count": 7,
   "metadata": {},
   "outputs": [],
   "source": [
    "def policy_iteration_eg42(transition_prob_and_reward_fn, gamma=0.9, theta=1e-1, max_num_cars=MAX_NUM_CARS, max_num_transfers=MAX_NUM_TRANSFERS):\n",
    "    nS = max_num_cars+1\n",
    "    nA = 2*max_num_transfers+1\n",
    "    stats = {'eval_delta': [], 'impr_num_a_diff': []}\n",
    "    n_iter = 0\n",
    "    iter_pbar = tqdm_notebook(desc='iter')\n",
    "    eval_pbar = tqdm_notebook(desc='eval', leave=False)\n",
    "    s1_pbar = tqdm_notebook(desc='loop(s1, ...)', leave=False)\n",
    "\n",
    "    # Following p. 65 - Policy iteration (using iterative policy evaluation)\n",
    "    # 1. Initialization\n",
    "    V = np.zeros((nS, nS))\n",
    "    pi = np.random.randint(low=-max_num_transfers, high=max_num_transfers+1, size=(nS, nS))\n",
    "    iter_pbar.update()\n",
    "\n",
    "    while True:\n",
    "        stats['eval_delta'].append([])\n",
    "        \n",
    "        # 2. Policy Evaluation\n",
    "        while True:\n",
    "            delta = 0\n",
    "            s1_prev = None\n",
    "            for s1, s2 in itertools.product(range(nS), range(nS)):\n",
    "                if s1 != s1_prev:\n",
    "                    s1_prev = s1\n",
    "                    s1_pbar.update()\n",
    "\n",
    "                v = V[s1, s2]\n",
    "                v_new = 0\n",
    "                for s1p, s2p in itertools.product(range(nS), range(nS)):\n",
    "                    p, r = transition_prob_and_reward_fn(s=(s1, s2), a=int(pi[s1, s2]), sp=(s1p, s2p))\n",
    "                    v_new += p*(r + gamma*V[s1p, s2p])\n",
    "                V[s1, s2] = v_new\n",
    "                delta = max(delta, abs(v-v_new))\n",
    "\n",
    "            stats['eval_delta'][-1].append(delta)\n",
    "            eval_pbar.update()\n",
    "            eval_pbar.set_postfix(delta=delta)\n",
    "            \n",
    "            if delta < theta:\n",
    "                break\n",
    "        iter_pbar.set_postfix(delta=delta)\n",
    "\n",
    "        # 3. Policy Improvement\n",
    "        num_a_diff = 0\n",
    "        s1_prev = None\n",
    "        for s1, s2 in itertools.product(range(nS), range(nS)):\n",
    "            if s1 != s1_prev:\n",
    "                s1_prev = s1\n",
    "                s1_pbar.update()\n",
    "            old_action = pi[s1, s2]\n",
    "            value_backups = np.zeros(nA)\n",
    "            for ai, s1p, s2p in itertools.product(range(nA), range(nS), range(nS)):\n",
    "                a = ai - max_num_transfers\n",
    "                p, r = transition_prob_and_reward_fn(s=(s1, s2), a=int(a), sp=(s1p, s2p))\n",
    "                value_backups[ai] += p*(r + gamma*V[s1p, s2p])\n",
    "            ai_best = np.argmax(value_backups)\n",
    "            a_best = ai_best - max_num_transfers\n",
    "            pi[s1, s2] = a_best\n",
    "            if old_action != a_best:\n",
    "                num_a_diff += 1\n",
    "\n",
    "        n_iter += 1\n",
    "        stats['impr_num_a_diff'].append(num_a_diff)\n",
    "        iter_pbar.update()\n",
    "        iter_pbar.set_postfix(num_a_diff=num_a_diff)\n",
    "        \n",
    "        if num_a_diff == 0:\n",
    "            break\n",
    "    \n",
    "    s1_pbar.close()\n",
    "    eval_pbar.close()\n",
    "    print('Converged in %d iterations' % n_iter)\n",
    "    \n",
    "    return V, pi, stats\n",
    "\n",
    "\n",
    "def value_iteration_eg42(transition_prob_and_reward_fn, gamma=0.9, theta=1e-1, max_num_cars=MAX_NUM_CARS, max_num_transfers=MAX_NUM_TRANSFERS):\n",
    "    nS = max_num_cars+1\n",
    "    nA = 2*max_num_transfers+1\n",
    "    stats = {'delta': []}\n",
    "    n_iter = 0\n",
    "    iter_pbar = tqdm_notebook(desc='iter')\n",
    "    s1_pbar = tqdm_notebook(desc='loop(s1, ...)', leave=False)\n",
    "\n",
    "    # Following p. 67 - Value iteration\n",
    "    # Initialization\n",
    "    V = np.zeros(shape=(nS, nS))\n",
    "    iter_pbar.update()\n",
    "\n",
    "    # Value evaluation and greedy policy evaluation\n",
    "    pi = np.zeros(shape=(nS, nS), dtype='int8')\n",
    "    while True:\n",
    "        delta = 0\n",
    "        s1_prev = None\n",
    "        for s1, s2 in itertools.product(range(nS), range(nS)):\n",
    "            if s1 != s1_prev:\n",
    "                s1_prev = s1\n",
    "                s1_pbar.update()\n",
    "            v = V[s1, s2]\n",
    "            value_backups = np.zeros(nA)\n",
    "            for ai, s1p, s2p in itertools.product(range(nA), range(nS), range(nS)):\n",
    "                a = ai - max_num_transfers\n",
    "                p, r = transition_prob_and_reward_fn(s=(s1, s2), a=int(a), sp=(s1p, s2p))\n",
    "                value_backups[ai] += p*(r + gamma*V[s1p, s2p])\n",
    "            ai_best = np.argmax(value_backups)\n",
    "            a_best = ai_best - max_num_transfers\n",
    "            pi[s1, s2] = a_best\n",
    "            v_new = value_backups[ai_best]\n",
    "            V[s1, s2] = v_new\n",
    "            delta = max(delta, abs(v-v_new))\n",
    "\n",
    "        n_iter += 1\n",
    "        stats['delta'].append(delta)\n",
    "        iter_pbar.update()\n",
    "        iter_pbar.set_postfix(delta=delta)\n",
    "\n",
    "        if delta < theta:\n",
    "            break\n",
    "    \n",
    "    s1_pbar.close()\n",
    "    print('Converged in %d iterations' % n_iter)\n",
    "    \n",
    "    return V, pi, stats\n",
    "\n",
    "\n",
    "def q_value_iteration_eg42(transition_prob_and_reward_fn, gamma=0.9, theta=1e-1, max_num_cars=MAX_NUM_CARS, max_num_transfers=MAX_NUM_TRANSFERS):\n",
    "    nS = max_num_cars+1\n",
    "    nA = 2*max_num_transfers+1\n",
    "    stats = {'delta': []}\n",
    "    n_iter = 0\n",
    "    iter_pbar = tqdm_notebook(desc='iter')\n",
    "    s1_pbar = tqdm_notebook(desc='loop(s1, ...)', leave=False)\n",
    "\n",
    "    # Initialization\n",
    "    Q = np.zeros((nS, nS, nA))\n",
    "    iter_pbar.update()\n",
    "\n",
    "    # Q-value improvement via greedy one-step backup\n",
    "    while True:\n",
    "        delta = 0\n",
    "        s1_prev = None\n",
    "        for s1, s2, ai in itertools.product(range(nS), range(nS), range(nA)):\n",
    "            if s1 != s1_prev:\n",
    "                s1_prev = s1\n",
    "                s1_pbar.update()\n",
    "            a = ai - max_num_transfers\n",
    "            q = Q[s1, s2, ai]\n",
    "            q_new = 0\n",
    "            for s1p, s2p in itertools.product(range(nS), range(nS)):\n",
    "                p, r = transition_prob_and_reward_fn(s=(s1, s2), a=int(a), sp=(s1p, s2p))\n",
    "                q_new += p*(r + gamma*np.max(Q[s1p, s2p, :]))\n",
    "            Q[s1, s2, ai] = q_new\n",
    "            delta = max(delta, abs(q-q_new))\n",
    "            \n",
    "        n_iter += 1\n",
    "        stats['delta'].append(delta)\n",
    "        iter_pbar.update()\n",
    "        iter_pbar.set_postfix(delta=delta)\n",
    "\n",
    "        if delta < theta:\n",
    "            break\n",
    "\n",
    "    # Extract greedy policy\n",
    "    pi = np.zeros(shape=(nS, nS), dtype='int8')\n",
    "    for s1, s2 in itertools.product(range(nS), range(nS)):\n",
    "        ai_best = np.argmax(Q[s1, s2, :])\n",
    "        a_best = ai_best - max_num_transfers\n",
    "        pi[s1, s2] = a_best\n",
    "        \n",
    "    s1_pbar.close()\n",
    "    print('Converged in %d iterations' % n_iter)\n",
    "    \n",
    "    return Q, pi, stats\n",
    "\n",
    "\n",
    "def policy_iteration_ex45(transition_prob_and_reward_fn, gamma=0.9, theta=1e-1, max_num_cars=MAX_NUM_CARS, max_num_transfers=MAX_NUM_TRANSFERS):\n",
    "    nS = max_num_cars+1\n",
    "    nA = 2*max_num_transfers+1\n",
    "    stats = {'eval_delta': [], 'impr_num_a_diff': []}\n",
    "    n_iter = 0\n",
    "    iter_pbar = tqdm_notebook(desc='iter')\n",
    "    eval_pbar = tqdm_notebook(desc='eval', leave=False)\n",
    "    s1_pbar = tqdm_notebook(desc='loop(s1, ...)', leave=False)\n",
    "\n",
    "    # Following p. 65 - Policy iteration (using iterative policy evaluation)\n",
    "    # 1. Initialization\n",
    "    V = np.zeros((nS, nS))\n",
    "    pi = np.stack((np.random.randint(low=-max_num_transfers, high=max_num_transfers+1, size=(nS, nS)),\n",
    "                  np.random.randint(low=0, high=1+1, size=(nS, nS))))\n",
    "    iter_pbar.update()\n",
    "\n",
    "    while True:\n",
    "        stats['eval_delta'].append([])\n",
    "        \n",
    "        # 2. Policy Evaluation\n",
    "        while True:\n",
    "            delta = 0\n",
    "            s1_prev = None\n",
    "            for s1, s2 in itertools.product(range(nS), range(nS)):\n",
    "                if s1 != s1_prev:\n",
    "                    s1_prev = s1\n",
    "                    s1_pbar.update()\n",
    "\n",
    "                v = V[s1, s2]\n",
    "                v_new = 0\n",
    "                for s1p, s2p in itertools.product(range(nS), range(nS)):\n",
    "                    p, r = transition_prob_and_reward_fn(s=(s1, s2), a=tuple(int(a) for a in pi[:, s1, s2]), sp=(s1p, s2p))\n",
    "                    v_new += p*(r + gamma*V[s1p, s2p])\n",
    "                V[s1, s2] = v_new\n",
    "                delta = max(delta, abs(v-v_new))\n",
    "\n",
    "            stats['eval_delta'][-1].append(delta)\n",
    "            eval_pbar.update()\n",
    "            eval_pbar.set_postfix(delta=delta)\n",
    "            \n",
    "            if delta < theta:\n",
    "                break\n",
    "        iter_pbar.set_postfix(delta=delta)\n",
    "\n",
    "        # 3. Policy Improvement\n",
    "        num_a_diff = 0\n",
    "        s1_prev = None\n",
    "        for s1, s2 in itertools.product(range(nS), range(nS)):\n",
    "            if s1 != s1_prev:\n",
    "                s1_prev = s1\n",
    "                s1_pbar.update()\n",
    "            old_action = pi[:, s1, s2]\n",
    "            value_backups = np.zeros((nA, 2))\n",
    "            for ai, a_employee, s1p, s2p in itertools.product(range(nA), range(2), range(nS), range(nS)):\n",
    "                a_transfer = ai - max_num_transfers\n",
    "                p, r = transition_prob_and_reward_fn(s=(s1, s2), a=(int(a_transfer), int(a_employee)), sp=(s1p, s2p))\n",
    "                value_backups[ai, a_employee] += p*(r + gamma*V[s1p, s2p])\n",
    "            ai_best = np.argmax(value_backups)\n",
    "            ai_transfer_best, a_employee_best = np.unravel_index(ai_best, value_backups.shape)\n",
    "            a_transfer_best = ai_transfer_best - max_num_transfers\n",
    "            pi[0, s1, s2], pi[1, s1, s2] = a_transfer_best, a_employee_best\n",
    "            if old_action[0] != a_transfer_best or old_action[1] != a_employee_best:\n",
    "                num_a_diff += 1\n",
    "\n",
    "        n_iter += 1\n",
    "        stats['impr_num_a_diff'].append(num_a_diff)\n",
    "        iter_pbar.update()\n",
    "        iter_pbar.set_postfix(num_a_diff=num_a_diff)\n",
    "        \n",
    "        if num_a_diff == 0:\n",
    "            break\n",
    "    \n",
    "    s1_pbar.close()\n",
    "    eval_pbar.close()\n",
    "    print('Converged in %d iterations' % n_iter)\n",
    "    \n",
    "    return V, pi, stats\n"
   ]
  },
  {
   "cell_type": "markdown",
   "metadata": {},
   "source": [
    "## Policy iteration"
   ]
  },
  {
   "cell_type": "code",
   "execution_count": 8,
   "metadata": {},
   "outputs": [
    {
     "data": {
      "application/vnd.jupyter.widget-view+json": {
       "model_id": "23b25c97888b4324aa069435fee90418",
       "version_major": 2,
       "version_minor": 0
      },
      "text/html": [
       "<p>Failed to display Jupyter Widget of type <code>HBox</code>.</p>\n",
       "<p>\n",
       "  If you're reading this message in the Jupyter Notebook or JupyterLab Notebook, it may mean\n",
       "  that the widgets JavaScript is still loading. If this message persists, it\n",
       "  likely means that the widgets JavaScript library is either not installed or\n",
       "  not enabled. See the <a href=\"https://ipywidgets.readthedocs.io/en/stable/user_install.html\">Jupyter\n",
       "  Widgets Documentation</a> for setup instructions.\n",
       "</p>\n",
       "<p>\n",
       "  If you're reading this message in another frontend (for example, a static\n",
       "  rendering on GitHub or <a href=\"https://nbviewer.jupyter.org/\">NBViewer</a>),\n",
       "  it may mean that your frontend doesn't currently support widgets.\n",
       "</p>\n"
      ],
      "text/plain": [
       "HBox(children=(IntProgress(value=1, bar_style='info', description='iter', max=1), HTML(value='')))"
      ]
     },
     "metadata": {},
     "output_type": "display_data"
    },
    {
     "data": {
      "application/vnd.jupyter.widget-view+json": {
       "model_id": "c1d86fbb43064c8eabe4100cc3159f92",
       "version_major": 2,
       "version_minor": 0
      },
      "text/html": [
       "<p>Failed to display Jupyter Widget of type <code>HBox</code>.</p>\n",
       "<p>\n",
       "  If you're reading this message in the Jupyter Notebook or JupyterLab Notebook, it may mean\n",
       "  that the widgets JavaScript is still loading. If this message persists, it\n",
       "  likely means that the widgets JavaScript library is either not installed or\n",
       "  not enabled. See the <a href=\"https://ipywidgets.readthedocs.io/en/stable/user_install.html\">Jupyter\n",
       "  Widgets Documentation</a> for setup instructions.\n",
       "</p>\n",
       "<p>\n",
       "  If you're reading this message in another frontend (for example, a static\n",
       "  rendering on GitHub or <a href=\"https://nbviewer.jupyter.org/\">NBViewer</a>),\n",
       "  it may mean that your frontend doesn't currently support widgets.\n",
       "</p>\n"
      ],
      "text/plain": [
       "HBox(children=(IntProgress(value=1, bar_style='info', description='eval', max=1), HTML(value='')))"
      ]
     },
     "metadata": {},
     "output_type": "display_data"
    },
    {
     "data": {
      "application/vnd.jupyter.widget-view+json": {
       "model_id": "08c49c382b214f90af9bc65cc36c809f",
       "version_major": 2,
       "version_minor": 0
      },
      "text/html": [
       "<p>Failed to display Jupyter Widget of type <code>HBox</code>.</p>\n",
       "<p>\n",
       "  If you're reading this message in the Jupyter Notebook or JupyterLab Notebook, it may mean\n",
       "  that the widgets JavaScript is still loading. If this message persists, it\n",
       "  likely means that the widgets JavaScript library is either not installed or\n",
       "  not enabled. See the <a href=\"https://ipywidgets.readthedocs.io/en/stable/user_install.html\">Jupyter\n",
       "  Widgets Documentation</a> for setup instructions.\n",
       "</p>\n",
       "<p>\n",
       "  If you're reading this message in another frontend (for example, a static\n",
       "  rendering on GitHub or <a href=\"https://nbviewer.jupyter.org/\">NBViewer</a>),\n",
       "  it may mean that your frontend doesn't currently support widgets.\n",
       "</p>\n"
      ],
      "text/plain": [
       "HBox(children=(IntProgress(value=1, bar_style='info', description='loop(s1, ...)', max=1), HTML(value='')))"
      ]
     },
     "metadata": {},
     "output_type": "display_data"
    },
    {
     "name": "stdout",
     "output_type": "stream",
     "text": [
      "Converged in 7 iterations\n",
      "\n"
     ]
    }
   ],
   "source": [
    "# Compute policy iteration for example 4.2 using cached transition fn\n",
    "\n",
    "V, pi, stats = policy_iteration_eg42(transition_prob_and_reward_eg42_cached)\n",
    "\n",
    "with open('pkl/Example_4.2_cached.pkl', 'wb') as f:\n",
    "    pickle.dump({'V': V, 'pi': pi, 'stats': stats}, f)\n"
   ]
  },
  {
   "cell_type": "code",
   "execution_count": 9,
   "metadata": {},
   "outputs": [
    {
     "data": {
      "application/vnd.jupyter.widget-view+json": {
       "model_id": "ff623b086c374d8f84b4a3dc0d58b36a",
       "version_major": 2,
       "version_minor": 0
      },
      "text/html": [
       "<p>Failed to display Jupyter Widget of type <code>HBox</code>.</p>\n",
       "<p>\n",
       "  If you're reading this message in the Jupyter Notebook or JupyterLab Notebook, it may mean\n",
       "  that the widgets JavaScript is still loading. If this message persists, it\n",
       "  likely means that the widgets JavaScript library is either not installed or\n",
       "  not enabled. See the <a href=\"https://ipywidgets.readthedocs.io/en/stable/user_install.html\">Jupyter\n",
       "  Widgets Documentation</a> for setup instructions.\n",
       "</p>\n",
       "<p>\n",
       "  If you're reading this message in another frontend (for example, a static\n",
       "  rendering on GitHub or <a href=\"https://nbviewer.jupyter.org/\">NBViewer</a>),\n",
       "  it may mean that your frontend doesn't currently support widgets.\n",
       "</p>\n"
      ],
      "text/plain": [
       "HBox(children=(IntProgress(value=1, bar_style='info', description='iter', max=1), HTML(value='')))"
      ]
     },
     "metadata": {},
     "output_type": "display_data"
    },
    {
     "data": {
      "application/vnd.jupyter.widget-view+json": {
       "model_id": "5616d6d649484751a02e0dd52f5fa60d",
       "version_major": 2,
       "version_minor": 0
      },
      "text/html": [
       "<p>Failed to display Jupyter Widget of type <code>HBox</code>.</p>\n",
       "<p>\n",
       "  If you're reading this message in the Jupyter Notebook or JupyterLab Notebook, it may mean\n",
       "  that the widgets JavaScript is still loading. If this message persists, it\n",
       "  likely means that the widgets JavaScript library is either not installed or\n",
       "  not enabled. See the <a href=\"https://ipywidgets.readthedocs.io/en/stable/user_install.html\">Jupyter\n",
       "  Widgets Documentation</a> for setup instructions.\n",
       "</p>\n",
       "<p>\n",
       "  If you're reading this message in another frontend (for example, a static\n",
       "  rendering on GitHub or <a href=\"https://nbviewer.jupyter.org/\">NBViewer</a>),\n",
       "  it may mean that your frontend doesn't currently support widgets.\n",
       "</p>\n"
      ],
      "text/plain": [
       "HBox(children=(IntProgress(value=1, bar_style='info', description='eval', max=1), HTML(value='')))"
      ]
     },
     "metadata": {},
     "output_type": "display_data"
    },
    {
     "data": {
      "application/vnd.jupyter.widget-view+json": {
       "model_id": "2a0d2411c0d44416a00d03e9cade7cbe",
       "version_major": 2,
       "version_minor": 0
      },
      "text/html": [
       "<p>Failed to display Jupyter Widget of type <code>HBox</code>.</p>\n",
       "<p>\n",
       "  If you're reading this message in the Jupyter Notebook or JupyterLab Notebook, it may mean\n",
       "  that the widgets JavaScript is still loading. If this message persists, it\n",
       "  likely means that the widgets JavaScript library is either not installed or\n",
       "  not enabled. See the <a href=\"https://ipywidgets.readthedocs.io/en/stable/user_install.html\">Jupyter\n",
       "  Widgets Documentation</a> for setup instructions.\n",
       "</p>\n",
       "<p>\n",
       "  If you're reading this message in another frontend (for example, a static\n",
       "  rendering on GitHub or <a href=\"https://nbviewer.jupyter.org/\">NBViewer</a>),\n",
       "  it may mean that your frontend doesn't currently support widgets.\n",
       "</p>\n"
      ],
      "text/plain": [
       "HBox(children=(IntProgress(value=1, bar_style='info', description='loop(s1, ...)', max=1), HTML(value='')))"
      ]
     },
     "metadata": {},
     "output_type": "display_data"
    },
    {
     "name": "stdout",
     "output_type": "stream",
     "text": [
      "Converged in 5 iterations\n",
      "\n"
     ]
    }
   ],
   "source": [
    "# Compute policy iteration for example 4.2\n",
    "\n",
    "V, pi, stats = policy_iteration_eg42(transition_prob_and_reward_eg42)\n",
    "\n",
    "with open('pkl/Example_4.2.pkl', 'wb') as f:\n",
    "    pickle.dump({'V': V, 'pi': pi, 'stats': stats}, f)\n"
   ]
  },
  {
   "cell_type": "code",
   "execution_count": 10,
   "metadata": {},
   "outputs": [
    {
     "data": {
      "application/vnd.jupyter.widget-view+json": {
       "model_id": "37bfcc0e551449f5a7a5826977ed8ecb",
       "version_major": 2,
       "version_minor": 0
      },
      "text/html": [
       "<p>Failed to display Jupyter Widget of type <code>HBox</code>.</p>\n",
       "<p>\n",
       "  If you're reading this message in the Jupyter Notebook or JupyterLab Notebook, it may mean\n",
       "  that the widgets JavaScript is still loading. If this message persists, it\n",
       "  likely means that the widgets JavaScript library is either not installed or\n",
       "  not enabled. See the <a href=\"https://ipywidgets.readthedocs.io/en/stable/user_install.html\">Jupyter\n",
       "  Widgets Documentation</a> for setup instructions.\n",
       "</p>\n",
       "<p>\n",
       "  If you're reading this message in another frontend (for example, a static\n",
       "  rendering on GitHub or <a href=\"https://nbviewer.jupyter.org/\">NBViewer</a>),\n",
       "  it may mean that your frontend doesn't currently support widgets.\n",
       "</p>\n"
      ],
      "text/plain": [
       "HBox(children=(IntProgress(value=1, bar_style='info', description='iter', max=1), HTML(value='')))"
      ]
     },
     "metadata": {},
     "output_type": "display_data"
    },
    {
     "data": {
      "application/vnd.jupyter.widget-view+json": {
       "model_id": "1888c65dc6994d74a3448fc068b25322",
       "version_major": 2,
       "version_minor": 0
      },
      "text/html": [
       "<p>Failed to display Jupyter Widget of type <code>HBox</code>.</p>\n",
       "<p>\n",
       "  If you're reading this message in the Jupyter Notebook or JupyterLab Notebook, it may mean\n",
       "  that the widgets JavaScript is still loading. If this message persists, it\n",
       "  likely means that the widgets JavaScript library is either not installed or\n",
       "  not enabled. See the <a href=\"https://ipywidgets.readthedocs.io/en/stable/user_install.html\">Jupyter\n",
       "  Widgets Documentation</a> for setup instructions.\n",
       "</p>\n",
       "<p>\n",
       "  If you're reading this message in another frontend (for example, a static\n",
       "  rendering on GitHub or <a href=\"https://nbviewer.jupyter.org/\">NBViewer</a>),\n",
       "  it may mean that your frontend doesn't currently support widgets.\n",
       "</p>\n"
      ],
      "text/plain": [
       "HBox(children=(IntProgress(value=1, bar_style='info', description='eval', max=1), HTML(value='')))"
      ]
     },
     "metadata": {},
     "output_type": "display_data"
    },
    {
     "data": {
      "application/vnd.jupyter.widget-view+json": {
       "model_id": "e8568a9cd7304ebba45f97395190a637",
       "version_major": 2,
       "version_minor": 0
      },
      "text/html": [
       "<p>Failed to display Jupyter Widget of type <code>HBox</code>.</p>\n",
       "<p>\n",
       "  If you're reading this message in the Jupyter Notebook or JupyterLab Notebook, it may mean\n",
       "  that the widgets JavaScript is still loading. If this message persists, it\n",
       "  likely means that the widgets JavaScript library is either not installed or\n",
       "  not enabled. See the <a href=\"https://ipywidgets.readthedocs.io/en/stable/user_install.html\">Jupyter\n",
       "  Widgets Documentation</a> for setup instructions.\n",
       "</p>\n",
       "<p>\n",
       "  If you're reading this message in another frontend (for example, a static\n",
       "  rendering on GitHub or <a href=\"https://nbviewer.jupyter.org/\">NBViewer</a>),\n",
       "  it may mean that your frontend doesn't currently support widgets.\n",
       "</p>\n"
      ],
      "text/plain": [
       "HBox(children=(IntProgress(value=1, bar_style='info', description='loop(s1, ...)', max=1), HTML(value='')))"
      ]
     },
     "metadata": {},
     "output_type": "display_data"
    },
    {
     "name": "stdout",
     "output_type": "stream",
     "text": [
      "Converged in 5 iterations\n",
      "\n"
     ]
    }
   ],
   "source": [
    "# Compute policy iteration for example 4.2 using simpler but technically incorrect transition function\n",
    "\n",
    "V, pi, stats = policy_iteration_eg42(transition_prob_and_reward_eg42_poissononly)\n",
    "\n",
    "with open('pkl/Example_4.2_poissononly.pkl', 'wb') as f:\n",
    "    pickle.dump({'V': V, 'pi': pi, 'stats': stats}, f)\n"
   ]
  },
  {
   "cell_type": "code",
   "execution_count": 11,
   "metadata": {},
   "outputs": [
    {
     "data": {
      "application/vnd.jupyter.widget-view+json": {
       "model_id": "e75ebef52dc6424e9f61479eabf67626",
       "version_major": 2,
       "version_minor": 0
      },
      "text/html": [
       "<p>Failed to display Jupyter Widget of type <code>HBox</code>.</p>\n",
       "<p>\n",
       "  If you're reading this message in the Jupyter Notebook or JupyterLab Notebook, it may mean\n",
       "  that the widgets JavaScript is still loading. If this message persists, it\n",
       "  likely means that the widgets JavaScript library is either not installed or\n",
       "  not enabled. See the <a href=\"https://ipywidgets.readthedocs.io/en/stable/user_install.html\">Jupyter\n",
       "  Widgets Documentation</a> for setup instructions.\n",
       "</p>\n",
       "<p>\n",
       "  If you're reading this message in another frontend (for example, a static\n",
       "  rendering on GitHub or <a href=\"https://nbviewer.jupyter.org/\">NBViewer</a>),\n",
       "  it may mean that your frontend doesn't currently support widgets.\n",
       "</p>\n"
      ],
      "text/plain": [
       "HBox(children=(IntProgress(value=1, bar_style='info', description='iter', max=1), HTML(value='')))"
      ]
     },
     "metadata": {},
     "output_type": "display_data"
    },
    {
     "data": {
      "application/vnd.jupyter.widget-view+json": {
       "model_id": "338a7ec39e3f4bffa5c17c47201bab59",
       "version_major": 2,
       "version_minor": 0
      },
      "text/html": [
       "<p>Failed to display Jupyter Widget of type <code>HBox</code>.</p>\n",
       "<p>\n",
       "  If you're reading this message in the Jupyter Notebook or JupyterLab Notebook, it may mean\n",
       "  that the widgets JavaScript is still loading. If this message persists, it\n",
       "  likely means that the widgets JavaScript library is either not installed or\n",
       "  not enabled. See the <a href=\"https://ipywidgets.readthedocs.io/en/stable/user_install.html\">Jupyter\n",
       "  Widgets Documentation</a> for setup instructions.\n",
       "</p>\n",
       "<p>\n",
       "  If you're reading this message in another frontend (for example, a static\n",
       "  rendering on GitHub or <a href=\"https://nbviewer.jupyter.org/\">NBViewer</a>),\n",
       "  it may mean that your frontend doesn't currently support widgets.\n",
       "</p>\n"
      ],
      "text/plain": [
       "HBox(children=(IntProgress(value=1, bar_style='info', description='eval', max=1), HTML(value='')))"
      ]
     },
     "metadata": {},
     "output_type": "display_data"
    },
    {
     "data": {
      "application/vnd.jupyter.widget-view+json": {
       "model_id": "bc12715faa0348dc957266746bd8578c",
       "version_major": 2,
       "version_minor": 0
      },
      "text/html": [
       "<p>Failed to display Jupyter Widget of type <code>HBox</code>.</p>\n",
       "<p>\n",
       "  If you're reading this message in the Jupyter Notebook or JupyterLab Notebook, it may mean\n",
       "  that the widgets JavaScript is still loading. If this message persists, it\n",
       "  likely means that the widgets JavaScript library is either not installed or\n",
       "  not enabled. See the <a href=\"https://ipywidgets.readthedocs.io/en/stable/user_install.html\">Jupyter\n",
       "  Widgets Documentation</a> for setup instructions.\n",
       "</p>\n",
       "<p>\n",
       "  If you're reading this message in another frontend (for example, a static\n",
       "  rendering on GitHub or <a href=\"https://nbviewer.jupyter.org/\">NBViewer</a>),\n",
       "  it may mean that your frontend doesn't currently support widgets.\n",
       "</p>\n"
      ],
      "text/plain": [
       "HBox(children=(IntProgress(value=1, bar_style='info', description='loop(s1, ...)', max=1), HTML(value='')))"
      ]
     },
     "metadata": {},
     "output_type": "display_data"
    },
    {
     "name": "stdout",
     "output_type": "stream",
     "text": [
      "Converged in 1 iterations\n",
      "\n"
     ]
    }
   ],
   "source": [
    "# Compute policy iteration for example 4.5 using cached transition fn\n",
    "\n",
    "V, pi, stats = policy_iteration_ex45(transition_prob_and_reward_ex45_cached)\n",
    "\n",
    "with open('pkl/Exercise_4.5_cached.pkl', 'wb') as f:\n",
    "    pickle.dump({'V': V, 'pi': pi, 'stats': stats}, f)\n"
   ]
  },
  {
   "cell_type": "markdown",
   "metadata": {},
   "source": [
    "## Value iteration"
   ]
  },
  {
   "cell_type": "code",
   "execution_count": 12,
   "metadata": {},
   "outputs": [
    {
     "data": {
      "application/vnd.jupyter.widget-view+json": {
       "model_id": "b6fc744daf6f4c30a3fb2f92b08c20b7",
       "version_major": 2,
       "version_minor": 0
      },
      "text/html": [
       "<p>Failed to display Jupyter Widget of type <code>HBox</code>.</p>\n",
       "<p>\n",
       "  If you're reading this message in the Jupyter Notebook or JupyterLab Notebook, it may mean\n",
       "  that the widgets JavaScript is still loading. If this message persists, it\n",
       "  likely means that the widgets JavaScript library is either not installed or\n",
       "  not enabled. See the <a href=\"https://ipywidgets.readthedocs.io/en/stable/user_install.html\">Jupyter\n",
       "  Widgets Documentation</a> for setup instructions.\n",
       "</p>\n",
       "<p>\n",
       "  If you're reading this message in another frontend (for example, a static\n",
       "  rendering on GitHub or <a href=\"https://nbviewer.jupyter.org/\">NBViewer</a>),\n",
       "  it may mean that your frontend doesn't currently support widgets.\n",
       "</p>\n"
      ],
      "text/plain": [
       "HBox(children=(IntProgress(value=1, bar_style='info', description='iter', max=1), HTML(value='')))"
      ]
     },
     "metadata": {},
     "output_type": "display_data"
    },
    {
     "data": {
      "application/vnd.jupyter.widget-view+json": {
       "model_id": "f936a81f1f33473587202e2877b61331",
       "version_major": 2,
       "version_minor": 0
      },
      "text/html": [
       "<p>Failed to display Jupyter Widget of type <code>HBox</code>.</p>\n",
       "<p>\n",
       "  If you're reading this message in the Jupyter Notebook or JupyterLab Notebook, it may mean\n",
       "  that the widgets JavaScript is still loading. If this message persists, it\n",
       "  likely means that the widgets JavaScript library is either not installed or\n",
       "  not enabled. See the <a href=\"https://ipywidgets.readthedocs.io/en/stable/user_install.html\">Jupyter\n",
       "  Widgets Documentation</a> for setup instructions.\n",
       "</p>\n",
       "<p>\n",
       "  If you're reading this message in another frontend (for example, a static\n",
       "  rendering on GitHub or <a href=\"https://nbviewer.jupyter.org/\">NBViewer</a>),\n",
       "  it may mean that your frontend doesn't currently support widgets.\n",
       "</p>\n"
      ],
      "text/plain": [
       "HBox(children=(IntProgress(value=1, bar_style='info', description='loop(s1, ...)', max=1), HTML(value='')))"
      ]
     },
     "metadata": {},
     "output_type": "display_data"
    },
    {
     "name": "stdout",
     "output_type": "stream",
     "text": [
      "Converged in 40 iterations\n",
      "\n"
     ]
    }
   ],
   "source": [
    "# Compute value iteration for example 4.2 using cached transition fn\n",
    "\n",
    "V, pi, stats = value_iteration_eg42(transition_prob_and_reward_eg42_cached)\n",
    "\n",
    "with open('pkl/Example_4.2_V_cached.pkl', 'wb') as f:\n",
    "    pickle.dump({'V': V, 'pi': pi, 'stats': stats}, f)\n"
   ]
  },
  {
   "cell_type": "code",
   "execution_count": 13,
   "metadata": {},
   "outputs": [
    {
     "data": {
      "application/vnd.jupyter.widget-view+json": {
       "model_id": "8e7da2989a864b969932bab1d2535ab1",
       "version_major": 2,
       "version_minor": 0
      },
      "text/html": [
       "<p>Failed to display Jupyter Widget of type <code>HBox</code>.</p>\n",
       "<p>\n",
       "  If you're reading this message in the Jupyter Notebook or JupyterLab Notebook, it may mean\n",
       "  that the widgets JavaScript is still loading. If this message persists, it\n",
       "  likely means that the widgets JavaScript library is either not installed or\n",
       "  not enabled. See the <a href=\"https://ipywidgets.readthedocs.io/en/stable/user_install.html\">Jupyter\n",
       "  Widgets Documentation</a> for setup instructions.\n",
       "</p>\n",
       "<p>\n",
       "  If you're reading this message in another frontend (for example, a static\n",
       "  rendering on GitHub or <a href=\"https://nbviewer.jupyter.org/\">NBViewer</a>),\n",
       "  it may mean that your frontend doesn't currently support widgets.\n",
       "</p>\n"
      ],
      "text/plain": [
       "HBox(children=(IntProgress(value=1, bar_style='info', description='iter', max=1), HTML(value='')))"
      ]
     },
     "metadata": {},
     "output_type": "display_data"
    },
    {
     "data": {
      "application/vnd.jupyter.widget-view+json": {
       "model_id": "717590a028bb44349f19551d33cbf72e",
       "version_major": 2,
       "version_minor": 0
      },
      "text/html": [
       "<p>Failed to display Jupyter Widget of type <code>HBox</code>.</p>\n",
       "<p>\n",
       "  If you're reading this message in the Jupyter Notebook or JupyterLab Notebook, it may mean\n",
       "  that the widgets JavaScript is still loading. If this message persists, it\n",
       "  likely means that the widgets JavaScript library is either not installed or\n",
       "  not enabled. See the <a href=\"https://ipywidgets.readthedocs.io/en/stable/user_install.html\">Jupyter\n",
       "  Widgets Documentation</a> for setup instructions.\n",
       "</p>\n",
       "<p>\n",
       "  If you're reading this message in another frontend (for example, a static\n",
       "  rendering on GitHub or <a href=\"https://nbviewer.jupyter.org/\">NBViewer</a>),\n",
       "  it may mean that your frontend doesn't currently support widgets.\n",
       "</p>\n"
      ],
      "text/plain": [
       "HBox(children=(IntProgress(value=1, bar_style='info', description='loop(s1, ...)', max=1), HTML(value='')))"
      ]
     },
     "metadata": {},
     "output_type": "display_data"
    },
    {
     "name": "stdout",
     "output_type": "stream",
     "text": [
      "Converged in 40 iterations\n",
      "\n"
     ]
    }
   ],
   "source": [
    "# Compute value iteration for example 4.2\n",
    "\n",
    "V, pi, stats = value_iteration_eg42(transition_prob_and_reward_eg42)\n",
    "\n",
    "with open('pkl/Example_4.2_V.pkl', 'wb') as f:\n",
    "    pickle.dump({'V': V, 'pi': pi, 'stats': stats}, f)\n"
   ]
  },
  {
   "cell_type": "markdown",
   "metadata": {},
   "source": [
    "## Q-value iteration"
   ]
  },
  {
   "cell_type": "code",
   "execution_count": 14,
   "metadata": {},
   "outputs": [
    {
     "data": {
      "application/vnd.jupyter.widget-view+json": {
       "model_id": "6000b4c361544a19a8add11b0ad25870",
       "version_major": 2,
       "version_minor": 0
      },
      "text/html": [
       "<p>Failed to display Jupyter Widget of type <code>HBox</code>.</p>\n",
       "<p>\n",
       "  If you're reading this message in the Jupyter Notebook or JupyterLab Notebook, it may mean\n",
       "  that the widgets JavaScript is still loading. If this message persists, it\n",
       "  likely means that the widgets JavaScript library is either not installed or\n",
       "  not enabled. See the <a href=\"https://ipywidgets.readthedocs.io/en/stable/user_install.html\">Jupyter\n",
       "  Widgets Documentation</a> for setup instructions.\n",
       "</p>\n",
       "<p>\n",
       "  If you're reading this message in another frontend (for example, a static\n",
       "  rendering on GitHub or <a href=\"https://nbviewer.jupyter.org/\">NBViewer</a>),\n",
       "  it may mean that your frontend doesn't currently support widgets.\n",
       "</p>\n"
      ],
      "text/plain": [
       "HBox(children=(IntProgress(value=1, bar_style='info', description='iter', max=1), HTML(value='')))"
      ]
     },
     "metadata": {},
     "output_type": "display_data"
    },
    {
     "data": {
      "application/vnd.jupyter.widget-view+json": {
       "model_id": "5bf4beeac2374b8285e9b692deb6fc3c",
       "version_major": 2,
       "version_minor": 0
      },
      "text/html": [
       "<p>Failed to display Jupyter Widget of type <code>HBox</code>.</p>\n",
       "<p>\n",
       "  If you're reading this message in the Jupyter Notebook or JupyterLab Notebook, it may mean\n",
       "  that the widgets JavaScript is still loading. If this message persists, it\n",
       "  likely means that the widgets JavaScript library is either not installed or\n",
       "  not enabled. See the <a href=\"https://ipywidgets.readthedocs.io/en/stable/user_install.html\">Jupyter\n",
       "  Widgets Documentation</a> for setup instructions.\n",
       "</p>\n",
       "<p>\n",
       "  If you're reading this message in another frontend (for example, a static\n",
       "  rendering on GitHub or <a href=\"https://nbviewer.jupyter.org/\">NBViewer</a>),\n",
       "  it may mean that your frontend doesn't currently support widgets.\n",
       "</p>\n"
      ],
      "text/plain": [
       "HBox(children=(IntProgress(value=1, bar_style='info', description='loop(s1, ...)', max=1), HTML(value='')))"
      ]
     },
     "metadata": {},
     "output_type": "display_data"
    },
    {
     "name": "stdout",
     "output_type": "stream",
     "text": [
      "Converged in 39 iterations\n",
      "\n"
     ]
    }
   ],
   "source": [
    "# Compute Q-value iteration for example 4.2 using cached transition fn\n",
    "\n",
    "Q, pi, stats = q_value_iteration_eg42(transition_prob_and_reward_eg42_cached)\n",
    "\n",
    "with open('pkl/Example_4.2_Q_cached.pkl', 'wb') as f:\n",
    "    pickle.dump({'Q': Q, 'pi': pi, 'stats': stats}, f)\n"
   ]
  },
  {
   "cell_type": "code",
   "execution_count": 15,
   "metadata": {},
   "outputs": [
    {
     "data": {
      "application/vnd.jupyter.widget-view+json": {
       "model_id": "7ca88a95f86f4c009c167be15d19bdbb",
       "version_major": 2,
       "version_minor": 0
      },
      "text/html": [
       "<p>Failed to display Jupyter Widget of type <code>HBox</code>.</p>\n",
       "<p>\n",
       "  If you're reading this message in the Jupyter Notebook or JupyterLab Notebook, it may mean\n",
       "  that the widgets JavaScript is still loading. If this message persists, it\n",
       "  likely means that the widgets JavaScript library is either not installed or\n",
       "  not enabled. See the <a href=\"https://ipywidgets.readthedocs.io/en/stable/user_install.html\">Jupyter\n",
       "  Widgets Documentation</a> for setup instructions.\n",
       "</p>\n",
       "<p>\n",
       "  If you're reading this message in another frontend (for example, a static\n",
       "  rendering on GitHub or <a href=\"https://nbviewer.jupyter.org/\">NBViewer</a>),\n",
       "  it may mean that your frontend doesn't currently support widgets.\n",
       "</p>\n"
      ],
      "text/plain": [
       "HBox(children=(IntProgress(value=1, bar_style='info', description='iter', max=1), HTML(value='')))"
      ]
     },
     "metadata": {},
     "output_type": "display_data"
    },
    {
     "data": {
      "application/vnd.jupyter.widget-view+json": {
       "model_id": "37898f42aa974519ac78c7987403cc4a",
       "version_major": 2,
       "version_minor": 0
      },
      "text/html": [
       "<p>Failed to display Jupyter Widget of type <code>HBox</code>.</p>\n",
       "<p>\n",
       "  If you're reading this message in the Jupyter Notebook or JupyterLab Notebook, it may mean\n",
       "  that the widgets JavaScript is still loading. If this message persists, it\n",
       "  likely means that the widgets JavaScript library is either not installed or\n",
       "  not enabled. See the <a href=\"https://ipywidgets.readthedocs.io/en/stable/user_install.html\">Jupyter\n",
       "  Widgets Documentation</a> for setup instructions.\n",
       "</p>\n",
       "<p>\n",
       "  If you're reading this message in another frontend (for example, a static\n",
       "  rendering on GitHub or <a href=\"https://nbviewer.jupyter.org/\">NBViewer</a>),\n",
       "  it may mean that your frontend doesn't currently support widgets.\n",
       "</p>\n"
      ],
      "text/plain": [
       "HBox(children=(IntProgress(value=1, bar_style='info', description='loop(s1, ...)', max=1), HTML(value='')))"
      ]
     },
     "metadata": {},
     "output_type": "display_data"
    },
    {
     "name": "stdout",
     "output_type": "stream",
     "text": [
      "Converged in 39 iterations\n",
      "\n"
     ]
    }
   ],
   "source": [
    "# Compute Q-value iteration for example 4.2\n",
    "\n",
    "Q, pi, stats = q_value_iteration_eg42(transition_prob_and_reward_eg42)\n",
    "\n",
    "with open('pkl/Example_4.2_Q.pkl', 'wb') as f:\n",
    "    pickle.dump({'Q': Q, 'pi': pi, 'stats': stats}, f)\n"
   ]
  },
  {
   "cell_type": "markdown",
   "metadata": {},
   "source": [
    "## Visualizations"
   ]
  },
  {
   "cell_type": "code",
   "execution_count": 26,
   "metadata": {},
   "outputs": [
    {
     "name": "stdout",
     "output_type": "stream",
     "text": [
      "mean V diff: 0.0924151900394\n",
      "num pi diff: 6\n"
     ]
    },
    {
     "name": "stderr",
     "output_type": "stream",
     "text": [
      "/usr/local/lib/python3.5/dist-packages/matplotlib/pyplot.py:528: RuntimeWarning: More than 20 figures have been opened. Figures created through the pyplot interface (`matplotlib.pyplot.figure`) are retained until explicitly closed and may consume too much memory. (To control this warning, see the rcParam `figure.max_open_warning`).\n",
      "  max_open_warning, RuntimeWarning)\n"
     ]
    },
    {
     "data": {
      "application/vnd.jupyter.widget-view+json": {
       "model_id": "ac216419de6140dbbe9e23c7dfaa6b23",
       "version_major": 2,
       "version_minor": 0
      },
      "text/html": [
       "<p>Failed to display Jupyter Widget of type <code>FigureCanvasNbAgg</code>.</p>\n",
       "<p>\n",
       "  If you're reading this message in the Jupyter Notebook or JupyterLab Notebook, it may mean\n",
       "  that the widgets JavaScript is still loading. If this message persists, it\n",
       "  likely means that the widgets JavaScript library is either not installed or\n",
       "  not enabled. See the <a href=\"https://ipywidgets.readthedocs.io/en/stable/user_install.html\">Jupyter\n",
       "  Widgets Documentation</a> for setup instructions.\n",
       "</p>\n",
       "<p>\n",
       "  If you're reading this message in another frontend (for example, a static\n",
       "  rendering on GitHub or <a href=\"https://nbviewer.jupyter.org/\">NBViewer</a>),\n",
       "  it may mean that your frontend doesn't currently support widgets.\n",
       "</p>\n"
      ],
      "text/plain": [
       "FigureCanvasNbAgg()"
      ]
     },
     "metadata": {},
     "output_type": "display_data"
    },
    {
     "data": {
      "application/vnd.jupyter.widget-view+json": {
       "model_id": "e8cbf389bf8e44a7b204a489283e7b02",
       "version_major": 2,
       "version_minor": 0
      },
      "text/html": [
       "<p>Failed to display Jupyter Widget of type <code>FigureCanvasNbAgg</code>.</p>\n",
       "<p>\n",
       "  If you're reading this message in the Jupyter Notebook or JupyterLab Notebook, it may mean\n",
       "  that the widgets JavaScript is still loading. If this message persists, it\n",
       "  likely means that the widgets JavaScript library is either not installed or\n",
       "  not enabled. See the <a href=\"https://ipywidgets.readthedocs.io/en/stable/user_install.html\">Jupyter\n",
       "  Widgets Documentation</a> for setup instructions.\n",
       "</p>\n",
       "<p>\n",
       "  If you're reading this message in another frontend (for example, a static\n",
       "  rendering on GitHub or <a href=\"https://nbviewer.jupyter.org/\">NBViewer</a>),\n",
       "  it may mean that your frontend doesn't currently support widgets.\n",
       "</p>\n"
      ],
      "text/plain": [
       "FigureCanvasNbAgg()"
      ]
     },
     "metadata": {},
     "output_type": "display_data"
    },
    {
     "data": {
      "text/plain": [
       "Text(0.5,1.05,'Policy')"
      ]
     },
     "execution_count": 26,
     "metadata": {},
     "output_type": "execute_result"
    }
   ],
   "source": [
    "# Visualize final value function and policy for example 4.2\n",
    "\n",
    "with open('pkl/Example_4.2.pkl', 'rb') as f:\n",
    "    d = pickle.load(f)\n",
    "    V_ref, pi_ref, stats_ref = d['V'], d['pi'], d['stats']\n",
    "\n",
    "#results_filename = 'pkl/Example_4.2.pkl'\n",
    "results_filename = 'pkl/Example_4.2_cached.pkl'\n",
    "#results_filename = 'pkl/Example_4.2_poissononly.pkl' # WARNING: results drastically different, yet not so in earlier implementation...\n",
    "#results_filename = 'pkl/Example_4.2_V.pkl'\n",
    "#results_filename = 'pkl/Example_4.2_V_cached.pkl'\n",
    "with open(results_filename, 'rb') as f:\n",
    "    d = pickle.load(f)\n",
    "    V, pi, stats = d['V'], d['pi'], d['stats']\n",
    "    \n",
    "V_diff = V.astype('float') - V_ref.astype('float')\n",
    "pi_diff = (pi.astype('int8') != pi_ref.astype('int8'))\n",
    "print('mean V diff:', np.mean(np.abs(V_diff[:])))\n",
    "print('num pi diff:', np.sum(pi_diff[:]))\n",
    "    \n",
    "plt.matshow(V, origin='lower')\n",
    "plt.xlabel('Number of cars in first location')\n",
    "plt.ylabel('Number of cars in second location')\n",
    "plt.title('Value function')\n",
    "\n",
    "plt.matshow(pi, origin='lower')\n",
    "plt.xlabel('Number of cars in first location')\n",
    "plt.ylabel('Number of cars in second location')\n",
    "plt.title('Policy')"
   ]
  },
  {
   "cell_type": "code",
   "execution_count": 30,
   "metadata": {},
   "outputs": [
    {
     "name": "stdout",
     "output_type": "stream",
     "text": [
      "mean Q diff: 0.0\n",
      "num pi diff: 0\n"
     ]
    },
    {
     "name": "stderr",
     "output_type": "stream",
     "text": [
      "/usr/local/lib/python3.5/dist-packages/matplotlib/pyplot.py:528: RuntimeWarning: More than 20 figures have been opened. Figures created through the pyplot interface (`matplotlib.pyplot.figure`) are retained until explicitly closed and may consume too much memory. (To control this warning, see the rcParam `figure.max_open_warning`).\n",
      "  max_open_warning, RuntimeWarning)\n"
     ]
    },
    {
     "data": {
      "application/vnd.jupyter.widget-view+json": {
       "model_id": "1e0a56971b4b41e1a1ac0a67a53ebbf5",
       "version_major": 2,
       "version_minor": 0
      },
      "text/html": [
       "<p>Failed to display Jupyter Widget of type <code>FigureCanvasNbAgg</code>.</p>\n",
       "<p>\n",
       "  If you're reading this message in the Jupyter Notebook or JupyterLab Notebook, it may mean\n",
       "  that the widgets JavaScript is still loading. If this message persists, it\n",
       "  likely means that the widgets JavaScript library is either not installed or\n",
       "  not enabled. See the <a href=\"https://ipywidgets.readthedocs.io/en/stable/user_install.html\">Jupyter\n",
       "  Widgets Documentation</a> for setup instructions.\n",
       "</p>\n",
       "<p>\n",
       "  If you're reading this message in another frontend (for example, a static\n",
       "  rendering on GitHub or <a href=\"https://nbviewer.jupyter.org/\">NBViewer</a>),\n",
       "  it may mean that your frontend doesn't currently support widgets.\n",
       "</p>\n"
      ],
      "text/plain": [
       "FigureCanvasNbAgg()"
      ]
     },
     "metadata": {},
     "output_type": "display_data"
    },
    {
     "data": {
      "application/vnd.jupyter.widget-view+json": {
       "model_id": "380603e0d64f458e8a9adc17bb158d72",
       "version_major": 2,
       "version_minor": 0
      },
      "text/html": [
       "<p>Failed to display Jupyter Widget of type <code>FigureCanvasNbAgg</code>.</p>\n",
       "<p>\n",
       "  If you're reading this message in the Jupyter Notebook or JupyterLab Notebook, it may mean\n",
       "  that the widgets JavaScript is still loading. If this message persists, it\n",
       "  likely means that the widgets JavaScript library is either not installed or\n",
       "  not enabled. See the <a href=\"https://ipywidgets.readthedocs.io/en/stable/user_install.html\">Jupyter\n",
       "  Widgets Documentation</a> for setup instructions.\n",
       "</p>\n",
       "<p>\n",
       "  If you're reading this message in another frontend (for example, a static\n",
       "  rendering on GitHub or <a href=\"https://nbviewer.jupyter.org/\">NBViewer</a>),\n",
       "  it may mean that your frontend doesn't currently support widgets.\n",
       "</p>\n"
      ],
      "text/plain": [
       "FigureCanvasNbAgg()"
      ]
     },
     "metadata": {},
     "output_type": "display_data"
    },
    {
     "data": {
      "application/vnd.jupyter.widget-view+json": {
       "model_id": "f0971e32bc3141e1bfa9285afc86b176",
       "version_major": 2,
       "version_minor": 0
      },
      "text/html": [
       "<p>Failed to display Jupyter Widget of type <code>FigureCanvasNbAgg</code>.</p>\n",
       "<p>\n",
       "  If you're reading this message in the Jupyter Notebook or JupyterLab Notebook, it may mean\n",
       "  that the widgets JavaScript is still loading. If this message persists, it\n",
       "  likely means that the widgets JavaScript library is either not installed or\n",
       "  not enabled. See the <a href=\"https://ipywidgets.readthedocs.io/en/stable/user_install.html\">Jupyter\n",
       "  Widgets Documentation</a> for setup instructions.\n",
       "</p>\n",
       "<p>\n",
       "  If you're reading this message in another frontend (for example, a static\n",
       "  rendering on GitHub or <a href=\"https://nbviewer.jupyter.org/\">NBViewer</a>),\n",
       "  it may mean that your frontend doesn't currently support widgets.\n",
       "</p>\n"
      ],
      "text/plain": [
       "FigureCanvasNbAgg()"
      ]
     },
     "metadata": {},
     "output_type": "display_data"
    },
    {
     "data": {
      "application/vnd.jupyter.widget-view+json": {
       "model_id": "8ccfd06785ad44d695d6dcc66b8183f1",
       "version_major": 2,
       "version_minor": 0
      },
      "text/html": [
       "<p>Failed to display Jupyter Widget of type <code>FigureCanvasNbAgg</code>.</p>\n",
       "<p>\n",
       "  If you're reading this message in the Jupyter Notebook or JupyterLab Notebook, it may mean\n",
       "  that the widgets JavaScript is still loading. If this message persists, it\n",
       "  likely means that the widgets JavaScript library is either not installed or\n",
       "  not enabled. See the <a href=\"https://ipywidgets.readthedocs.io/en/stable/user_install.html\">Jupyter\n",
       "  Widgets Documentation</a> for setup instructions.\n",
       "</p>\n",
       "<p>\n",
       "  If you're reading this message in another frontend (for example, a static\n",
       "  rendering on GitHub or <a href=\"https://nbviewer.jupyter.org/\">NBViewer</a>),\n",
       "  it may mean that your frontend doesn't currently support widgets.\n",
       "</p>\n"
      ],
      "text/plain": [
       "FigureCanvasNbAgg()"
      ]
     },
     "metadata": {},
     "output_type": "display_data"
    },
    {
     "data": {
      "application/vnd.jupyter.widget-view+json": {
       "model_id": "85c039801dfa409c9d6cf5c4e2a9549c",
       "version_major": 2,
       "version_minor": 0
      },
      "text/html": [
       "<p>Failed to display Jupyter Widget of type <code>FigureCanvasNbAgg</code>.</p>\n",
       "<p>\n",
       "  If you're reading this message in the Jupyter Notebook or JupyterLab Notebook, it may mean\n",
       "  that the widgets JavaScript is still loading. If this message persists, it\n",
       "  likely means that the widgets JavaScript library is either not installed or\n",
       "  not enabled. See the <a href=\"https://ipywidgets.readthedocs.io/en/stable/user_install.html\">Jupyter\n",
       "  Widgets Documentation</a> for setup instructions.\n",
       "</p>\n",
       "<p>\n",
       "  If you're reading this message in another frontend (for example, a static\n",
       "  rendering on GitHub or <a href=\"https://nbviewer.jupyter.org/\">NBViewer</a>),\n",
       "  it may mean that your frontend doesn't currently support widgets.\n",
       "</p>\n"
      ],
      "text/plain": [
       "FigureCanvasNbAgg()"
      ]
     },
     "metadata": {},
     "output_type": "display_data"
    },
    {
     "data": {
      "application/vnd.jupyter.widget-view+json": {
       "model_id": "552881e027894d159ae583aacf0b5792",
       "version_major": 2,
       "version_minor": 0
      },
      "text/html": [
       "<p>Failed to display Jupyter Widget of type <code>FigureCanvasNbAgg</code>.</p>\n",
       "<p>\n",
       "  If you're reading this message in the Jupyter Notebook or JupyterLab Notebook, it may mean\n",
       "  that the widgets JavaScript is still loading. If this message persists, it\n",
       "  likely means that the widgets JavaScript library is either not installed or\n",
       "  not enabled. See the <a href=\"https://ipywidgets.readthedocs.io/en/stable/user_install.html\">Jupyter\n",
       "  Widgets Documentation</a> for setup instructions.\n",
       "</p>\n",
       "<p>\n",
       "  If you're reading this message in another frontend (for example, a static\n",
       "  rendering on GitHub or <a href=\"https://nbviewer.jupyter.org/\">NBViewer</a>),\n",
       "  it may mean that your frontend doesn't currently support widgets.\n",
       "</p>\n"
      ],
      "text/plain": [
       "FigureCanvasNbAgg()"
      ]
     },
     "metadata": {},
     "output_type": "display_data"
    },
    {
     "data": {
      "application/vnd.jupyter.widget-view+json": {
       "model_id": "1c419982b04a4cee9fbc170078770976",
       "version_major": 2,
       "version_minor": 0
      },
      "text/html": [
       "<p>Failed to display Jupyter Widget of type <code>FigureCanvasNbAgg</code>.</p>\n",
       "<p>\n",
       "  If you're reading this message in the Jupyter Notebook or JupyterLab Notebook, it may mean\n",
       "  that the widgets JavaScript is still loading. If this message persists, it\n",
       "  likely means that the widgets JavaScript library is either not installed or\n",
       "  not enabled. See the <a href=\"https://ipywidgets.readthedocs.io/en/stable/user_install.html\">Jupyter\n",
       "  Widgets Documentation</a> for setup instructions.\n",
       "</p>\n",
       "<p>\n",
       "  If you're reading this message in another frontend (for example, a static\n",
       "  rendering on GitHub or <a href=\"https://nbviewer.jupyter.org/\">NBViewer</a>),\n",
       "  it may mean that your frontend doesn't currently support widgets.\n",
       "</p>\n"
      ],
      "text/plain": [
       "FigureCanvasNbAgg()"
      ]
     },
     "metadata": {},
     "output_type": "display_data"
    },
    {
     "data": {
      "application/vnd.jupyter.widget-view+json": {
       "model_id": "4d2de63fea8c43769cc1ca69d17898f6",
       "version_major": 2,
       "version_minor": 0
      },
      "text/html": [
       "<p>Failed to display Jupyter Widget of type <code>FigureCanvasNbAgg</code>.</p>\n",
       "<p>\n",
       "  If you're reading this message in the Jupyter Notebook or JupyterLab Notebook, it may mean\n",
       "  that the widgets JavaScript is still loading. If this message persists, it\n",
       "  likely means that the widgets JavaScript library is either not installed or\n",
       "  not enabled. See the <a href=\"https://ipywidgets.readthedocs.io/en/stable/user_install.html\">Jupyter\n",
       "  Widgets Documentation</a> for setup instructions.\n",
       "</p>\n",
       "<p>\n",
       "  If you're reading this message in another frontend (for example, a static\n",
       "  rendering on GitHub or <a href=\"https://nbviewer.jupyter.org/\">NBViewer</a>),\n",
       "  it may mean that your frontend doesn't currently support widgets.\n",
       "</p>\n"
      ],
      "text/plain": [
       "FigureCanvasNbAgg()"
      ]
     },
     "metadata": {},
     "output_type": "display_data"
    },
    {
     "data": {
      "application/vnd.jupyter.widget-view+json": {
       "model_id": "2c92f667a4044f29b782cd2ea12e465e",
       "version_major": 2,
       "version_minor": 0
      },
      "text/html": [
       "<p>Failed to display Jupyter Widget of type <code>FigureCanvasNbAgg</code>.</p>\n",
       "<p>\n",
       "  If you're reading this message in the Jupyter Notebook or JupyterLab Notebook, it may mean\n",
       "  that the widgets JavaScript is still loading. If this message persists, it\n",
       "  likely means that the widgets JavaScript library is either not installed or\n",
       "  not enabled. See the <a href=\"https://ipywidgets.readthedocs.io/en/stable/user_install.html\">Jupyter\n",
       "  Widgets Documentation</a> for setup instructions.\n",
       "</p>\n",
       "<p>\n",
       "  If you're reading this message in another frontend (for example, a static\n",
       "  rendering on GitHub or <a href=\"https://nbviewer.jupyter.org/\">NBViewer</a>),\n",
       "  it may mean that your frontend doesn't currently support widgets.\n",
       "</p>\n"
      ],
      "text/plain": [
       "FigureCanvasNbAgg()"
      ]
     },
     "metadata": {},
     "output_type": "display_data"
    },
    {
     "data": {
      "application/vnd.jupyter.widget-view+json": {
       "model_id": "f7d688c8375248fa998c95575ba9268c",
       "version_major": 2,
       "version_minor": 0
      },
      "text/html": [
       "<p>Failed to display Jupyter Widget of type <code>FigureCanvasNbAgg</code>.</p>\n",
       "<p>\n",
       "  If you're reading this message in the Jupyter Notebook or JupyterLab Notebook, it may mean\n",
       "  that the widgets JavaScript is still loading. If this message persists, it\n",
       "  likely means that the widgets JavaScript library is either not installed or\n",
       "  not enabled. See the <a href=\"https://ipywidgets.readthedocs.io/en/stable/user_install.html\">Jupyter\n",
       "  Widgets Documentation</a> for setup instructions.\n",
       "</p>\n",
       "<p>\n",
       "  If you're reading this message in another frontend (for example, a static\n",
       "  rendering on GitHub or <a href=\"https://nbviewer.jupyter.org/\">NBViewer</a>),\n",
       "  it may mean that your frontend doesn't currently support widgets.\n",
       "</p>\n"
      ],
      "text/plain": [
       "FigureCanvasNbAgg()"
      ]
     },
     "metadata": {},
     "output_type": "display_data"
    },
    {
     "data": {
      "application/vnd.jupyter.widget-view+json": {
       "model_id": "a378e4cbbeb54e9b808f4341b5c67a2f",
       "version_major": 2,
       "version_minor": 0
      },
      "text/html": [
       "<p>Failed to display Jupyter Widget of type <code>FigureCanvasNbAgg</code>.</p>\n",
       "<p>\n",
       "  If you're reading this message in the Jupyter Notebook or JupyterLab Notebook, it may mean\n",
       "  that the widgets JavaScript is still loading. If this message persists, it\n",
       "  likely means that the widgets JavaScript library is either not installed or\n",
       "  not enabled. See the <a href=\"https://ipywidgets.readthedocs.io/en/stable/user_install.html\">Jupyter\n",
       "  Widgets Documentation</a> for setup instructions.\n",
       "</p>\n",
       "<p>\n",
       "  If you're reading this message in another frontend (for example, a static\n",
       "  rendering on GitHub or <a href=\"https://nbviewer.jupyter.org/\">NBViewer</a>),\n",
       "  it may mean that your frontend doesn't currently support widgets.\n",
       "</p>\n"
      ],
      "text/plain": [
       "FigureCanvasNbAgg()"
      ]
     },
     "metadata": {},
     "output_type": "display_data"
    },
    {
     "data": {
      "application/vnd.jupyter.widget-view+json": {
       "model_id": "a53f0ac497da4ca3ac2a8f14eb06b047",
       "version_major": 2,
       "version_minor": 0
      },
      "text/html": [
       "<p>Failed to display Jupyter Widget of type <code>FigureCanvasNbAgg</code>.</p>\n",
       "<p>\n",
       "  If you're reading this message in the Jupyter Notebook or JupyterLab Notebook, it may mean\n",
       "  that the widgets JavaScript is still loading. If this message persists, it\n",
       "  likely means that the widgets JavaScript library is either not installed or\n",
       "  not enabled. See the <a href=\"https://ipywidgets.readthedocs.io/en/stable/user_install.html\">Jupyter\n",
       "  Widgets Documentation</a> for setup instructions.\n",
       "</p>\n",
       "<p>\n",
       "  If you're reading this message in another frontend (for example, a static\n",
       "  rendering on GitHub or <a href=\"https://nbviewer.jupyter.org/\">NBViewer</a>),\n",
       "  it may mean that your frontend doesn't currently support widgets.\n",
       "</p>\n"
      ],
      "text/plain": [
       "FigureCanvasNbAgg()"
      ]
     },
     "metadata": {},
     "output_type": "display_data"
    },
    {
     "data": {
      "text/plain": [
       "Text(0.5,1.05,'Policy function')"
      ]
     },
     "execution_count": 30,
     "metadata": {},
     "output_type": "execute_result"
    }
   ],
   "source": [
    "# Visualize final Q-value functions and policy for example 4.2\n",
    "\n",
    "with open('pkl/Example_4.2_Q.pkl', 'rb') as f:\n",
    "    d = pickle.load(f)\n",
    "    Q_ref, pi_ref, stats_ref = d['Q'], d['pi'], d['stats']\n",
    "\n",
    "#results_filename = 'pkl/Example_4.2_Q.pkl'\n",
    "results_filename = 'pkl/Example_4.2_Q_cached.pkl'\n",
    "with open(results_filename, 'rb') as f:\n",
    "    d = pickle.load(f)\n",
    "    Q, pi, stats = d['Q'], d['pi'], d['stats']\n",
    "    \n",
    "Q_diff = Q.astype('float') - Q_ref.astype('float')\n",
    "pi_diff = (pi.astype('int8') != pi_ref.astype('int8'))\n",
    "print('mean Q diff:', np.mean(np.abs(Q_diff[:])))\n",
    "print('num pi diff:', np.sum(pi_diff[:]))\n",
    "\n",
    "for ai, a in enumerate(range(-MAX_NUM_TRANSFERS, MAX_NUM_TRANSFERS+1)):\n",
    "    plt.matshow(Q[:, :, ai], origin='lower')\n",
    "    plt.xlabel('Number of cars in first location')\n",
    "    plt.ylabel('Number of cars in second location')\n",
    "    plt.title('Q-Value function for a=%d' % a)\n",
    "\n",
    "plt.matshow(pi, origin='lower')\n",
    "plt.xlabel('Number of cars in first location')\n",
    "plt.ylabel('Number of cars in second location')\n",
    "plt.title('Policy function')"
   ]
  },
  {
   "cell_type": "code",
   "execution_count": 18,
   "metadata": {},
   "outputs": [
    {
     "data": {
      "application/vnd.jupyter.widget-view+json": {
       "model_id": "e1c73dc8465f45e5bc674580048aa88e",
       "version_major": 2,
       "version_minor": 0
      },
      "text/html": [
       "<p>Failed to display Jupyter Widget of type <code>FigureCanvasNbAgg</code>.</p>\n",
       "<p>\n",
       "  If you're reading this message in the Jupyter Notebook or JupyterLab Notebook, it may mean\n",
       "  that the widgets JavaScript is still loading. If this message persists, it\n",
       "  likely means that the widgets JavaScript library is either not installed or\n",
       "  not enabled. See the <a href=\"https://ipywidgets.readthedocs.io/en/stable/user_install.html\">Jupyter\n",
       "  Widgets Documentation</a> for setup instructions.\n",
       "</p>\n",
       "<p>\n",
       "  If you're reading this message in another frontend (for example, a static\n",
       "  rendering on GitHub or <a href=\"https://nbviewer.jupyter.org/\">NBViewer</a>),\n",
       "  it may mean that your frontend doesn't currently support widgets.\n",
       "</p>\n"
      ],
      "text/plain": [
       "FigureCanvasNbAgg()"
      ]
     },
     "metadata": {},
     "output_type": "display_data"
    },
    {
     "data": {
      "application/vnd.jupyter.widget-view+json": {
       "model_id": "48145de5988041aa9f27134b2453ff29",
       "version_major": 2,
       "version_minor": 0
      },
      "text/html": [
       "<p>Failed to display Jupyter Widget of type <code>FigureCanvasNbAgg</code>.</p>\n",
       "<p>\n",
       "  If you're reading this message in the Jupyter Notebook or JupyterLab Notebook, it may mean\n",
       "  that the widgets JavaScript is still loading. If this message persists, it\n",
       "  likely means that the widgets JavaScript library is either not installed or\n",
       "  not enabled. See the <a href=\"https://ipywidgets.readthedocs.io/en/stable/user_install.html\">Jupyter\n",
       "  Widgets Documentation</a> for setup instructions.\n",
       "</p>\n",
       "<p>\n",
       "  If you're reading this message in another frontend (for example, a static\n",
       "  rendering on GitHub or <a href=\"https://nbviewer.jupyter.org/\">NBViewer</a>),\n",
       "  it may mean that your frontend doesn't currently support widgets.\n",
       "</p>\n"
      ],
      "text/plain": [
       "FigureCanvasNbAgg()"
      ]
     },
     "metadata": {},
     "output_type": "display_data"
    },
    {
     "data": {
      "application/vnd.jupyter.widget-view+json": {
       "model_id": "dfde2ae2e01a4a758d43bafda1bc2467",
       "version_major": 2,
       "version_minor": 0
      },
      "text/html": [
       "<p>Failed to display Jupyter Widget of type <code>FigureCanvasNbAgg</code>.</p>\n",
       "<p>\n",
       "  If you're reading this message in the Jupyter Notebook or JupyterLab Notebook, it may mean\n",
       "  that the widgets JavaScript is still loading. If this message persists, it\n",
       "  likely means that the widgets JavaScript library is either not installed or\n",
       "  not enabled. See the <a href=\"https://ipywidgets.readthedocs.io/en/stable/user_install.html\">Jupyter\n",
       "  Widgets Documentation</a> for setup instructions.\n",
       "</p>\n",
       "<p>\n",
       "  If you're reading this message in another frontend (for example, a static\n",
       "  rendering on GitHub or <a href=\"https://nbviewer.jupyter.org/\">NBViewer</a>),\n",
       "  it may mean that your frontend doesn't currently support widgets.\n",
       "</p>\n"
      ],
      "text/plain": [
       "FigureCanvasNbAgg()"
      ]
     },
     "metadata": {},
     "output_type": "display_data"
    },
    {
     "data": {
      "text/plain": [
       "Text(0.5,1.05,'Policy: transfers with employee +1')"
      ]
     },
     "execution_count": 18,
     "metadata": {},
     "output_type": "execute_result"
    }
   ],
   "source": [
    "# Visualize final value function and policy for exercise 4.5\n",
    "\n",
    "results_filename = 'pkl/Exercise_4.5_cached.pkl'\n",
    "with open(results_filename, 'rb') as f:\n",
    "    d = pickle.load(f)\n",
    "    V, pi, stats = d['V'], d['pi'], d['stats']\n",
    "    \n",
    "plt.matshow(V, origin='lower')\n",
    "plt.xlabel('Number of cars in first location')\n",
    "plt.ylabel('Number of cars in second location')\n",
    "plt.title('Value function')\n",
    "\n",
    "plt.matshow(pi[0], origin='lower')\n",
    "plt.xlabel('Number of cars in first location')\n",
    "plt.ylabel('Number of cars in second location')\n",
    "plt.title('Policy: transfers without employee +1')\n",
    "\n",
    "plt.matshow(pi[1], origin='lower')\n",
    "plt.xlabel('Number of cars in first location')\n",
    "plt.ylabel('Number of cars in second location')\n",
    "plt.title('Policy: transfers with employee +1')\n"
   ]
  }
 ],
 "metadata": {
  "kernelspec": {
   "display_name": "Python 3",
   "language": "python",
   "name": "python3"
  },
  "language_info": {
   "codemirror_mode": {
    "name": "ipython",
    "version": 3
   },
   "file_extension": ".py",
   "mimetype": "text/x-python",
   "name": "python",
   "nbconvert_exporter": "python",
   "pygments_lexer": "ipython3",
   "version": "3.5.2"
  }
 },
 "nbformat": 4,
 "nbformat_minor": 2
}
